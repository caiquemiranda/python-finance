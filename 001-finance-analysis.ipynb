{
 "cells": [
  {
   "cell_type": "code",
   "execution_count": 1,
   "metadata": {},
   "outputs": [],
   "source": [
    "# importação dos dados FB & MS\n",
    "import pandas as pd\n",
    "from pandas_datareader import data as wd"
   ]
  },
  {
   "cell_type": "code",
   "execution_count": 3,
   "metadata": {},
   "outputs": [],
   "source": [
    "fb = pd.DataFrame(wd.DataReader('FB', data_source='yahoo', start='2015-1-1', end='2018-1-1'))"
   ]
  },
  {
   "cell_type": "code",
   "execution_count": 5,
   "metadata": {},
   "outputs": [],
   "source": [
    "ms = pd.DataFrame(wd.DataReader('MS', data_source='yahoo', start='2015-1-1', end='2018-1-1'))"
   ]
  },
  {
   "cell_type": "code",
   "execution_count": 8,
   "metadata": {},
   "outputs": [
    {
     "data": {
      "text/html": [
       "<div>\n",
       "<style scoped>\n",
       "    .dataframe tbody tr th:only-of-type {\n",
       "        vertical-align: middle;\n",
       "    }\n",
       "\n",
       "    .dataframe tbody tr th {\n",
       "        vertical-align: top;\n",
       "    }\n",
       "\n",
       "    .dataframe thead th {\n",
       "        text-align: right;\n",
       "    }\n",
       "</style>\n",
       "<table border=\"1\" class=\"dataframe\">\n",
       "  <thead>\n",
       "    <tr style=\"text-align: right;\">\n",
       "      <th></th>\n",
       "      <th>High</th>\n",
       "      <th>Low</th>\n",
       "      <th>Open</th>\n",
       "      <th>Close</th>\n",
       "      <th>Volume</th>\n",
       "      <th>Adj Close</th>\n",
       "    </tr>\n",
       "    <tr>\n",
       "      <th>Date</th>\n",
       "      <th></th>\n",
       "      <th></th>\n",
       "      <th></th>\n",
       "      <th></th>\n",
       "      <th></th>\n",
       "      <th></th>\n",
       "    </tr>\n",
       "  </thead>\n",
       "  <tbody>\n",
       "    <tr>\n",
       "      <th>2015-01-02</th>\n",
       "      <td>39.150002</td>\n",
       "      <td>38.250000</td>\n",
       "      <td>39.049999</td>\n",
       "      <td>38.709999</td>\n",
       "      <td>7333800.0</td>\n",
       "      <td>32.670887</td>\n",
       "    </tr>\n",
       "    <tr>\n",
       "      <th>2015-01-05</th>\n",
       "      <td>38.590000</td>\n",
       "      <td>37.169998</td>\n",
       "      <td>38.459999</td>\n",
       "      <td>37.500000</td>\n",
       "      <td>12507900.0</td>\n",
       "      <td>31.649670</td>\n",
       "    </tr>\n",
       "    <tr>\n",
       "      <th>2015-01-06</th>\n",
       "      <td>37.540001</td>\n",
       "      <td>36.060001</td>\n",
       "      <td>37.470001</td>\n",
       "      <td>36.419998</td>\n",
       "      <td>16507800.0</td>\n",
       "      <td>30.738153</td>\n",
       "    </tr>\n",
       "    <tr>\n",
       "      <th>2015-01-07</th>\n",
       "      <td>37.049999</td>\n",
       "      <td>36.599998</td>\n",
       "      <td>36.930000</td>\n",
       "      <td>36.939999</td>\n",
       "      <td>9957700.0</td>\n",
       "      <td>31.177027</td>\n",
       "    </tr>\n",
       "    <tr>\n",
       "      <th>2015-01-08</th>\n",
       "      <td>37.759998</td>\n",
       "      <td>37.290001</td>\n",
       "      <td>37.290001</td>\n",
       "      <td>37.490002</td>\n",
       "      <td>8079600.0</td>\n",
       "      <td>31.641226</td>\n",
       "    </tr>\n",
       "  </tbody>\n",
       "</table>\n",
       "</div>"
      ],
      "text/plain": [
       "                 High        Low       Open      Close      Volume  Adj Close\n",
       "Date                                                                         \n",
       "2015-01-02  39.150002  38.250000  39.049999  38.709999   7333800.0  32.670887\n",
       "2015-01-05  38.590000  37.169998  38.459999  37.500000  12507900.0  31.649670\n",
       "2015-01-06  37.540001  36.060001  37.470001  36.419998  16507800.0  30.738153\n",
       "2015-01-07  37.049999  36.599998  36.930000  36.939999   9957700.0  31.177027\n",
       "2015-01-08  37.759998  37.290001  37.290001  37.490002   8079600.0  31.641226"
      ]
     },
     "execution_count": 8,
     "metadata": {},
     "output_type": "execute_result"
    }
   ],
   "source": [
    "ms.head()"
   ]
  },
  {
   "cell_type": "code",
   "execution_count": 9,
   "metadata": {},
   "outputs": [
    {
     "data": {
      "text/plain": [
       "(755, 6)"
      ]
     },
     "execution_count": 9,
     "metadata": {},
     "output_type": "execute_result"
    }
   ],
   "source": [
    "ms.shape"
   ]
  },
  {
   "cell_type": "code",
   "execution_count": 10,
   "metadata": {},
   "outputs": [
    {
     "data": {
      "text/plain": [
       "<AxesSubplot:xlabel='Date'>"
      ]
     },
     "execution_count": 10,
     "metadata": {},
     "output_type": "execute_result"
    },
    {
     "data": {
      "image/png": "[encoded data removed]",
      "text/plain": [
       "<Figure size 432x288 with 1 Axes>"
      ]
     },
     "metadata": {
      "needs_background": "light"
     },
     "output_type": "display_data"
    }
   ],
   "source": [
    "ms.loc['2015-01-01':'2015-12-31', 'Close'].plot() #data 2015\n",
    "ms.loc['2016-01-01':'2016-12-31', 'Close'].plot() #data 2016\n",
    "ms.loc['2017-01-01':'2017-12-31', 'Close'].plot() #data 2017\n",
    "#ms.loc['2018-01-01':'2018-12-31', 'Close'].plot() #data 2018"
   ]
  },
  {
   "cell_type": "code",
   "execution_count": 11,
   "metadata": {},
   "outputs": [
    {
     "data": {
      "text/html": [
       "<div>\n",
       "<style scoped>\n",
       "    .dataframe tbody tr th:only-of-type {\n",
       "        vertical-align: middle;\n",
       "    }\n",
       "\n",
       "    .dataframe tbody tr th {\n",
       "        vertical-align: top;\n",
       "    }\n",
       "\n",
       "    .dataframe thead th {\n",
       "        text-align: right;\n",
       "    }\n",
       "</style>\n",
       "<table border=\"1\" class=\"dataframe\">\n",
       "  <thead>\n",
       "    <tr style=\"text-align: right;\">\n",
       "      <th></th>\n",
       "      <th>High</th>\n",
       "      <th>Low</th>\n",
       "      <th>Open</th>\n",
       "      <th>Close</th>\n",
       "      <th>Volume</th>\n",
       "      <th>Adj Close</th>\n",
       "    </tr>\n",
       "  </thead>\n",
       "  <tbody>\n",
       "    <tr>\n",
       "      <th>count</th>\n",
       "      <td>755.000000</td>\n",
       "      <td>755.000000</td>\n",
       "      <td>755.000000</td>\n",
       "      <td>755.000000</td>\n",
       "      <td>7.550000e+02</td>\n",
       "      <td>755.000000</td>\n",
       "    </tr>\n",
       "    <tr>\n",
       "      <th>mean</th>\n",
       "      <td>37.642728</td>\n",
       "      <td>36.896702</td>\n",
       "      <td>37.273682</td>\n",
       "      <td>37.271046</td>\n",
       "      <td>1.151909e+07</td>\n",
       "      <td>32.461086</td>\n",
       "    </tr>\n",
       "    <tr>\n",
       "      <th>std</th>\n",
       "      <td>7.830516</td>\n",
       "      <td>7.792871</td>\n",
       "      <td>7.822502</td>\n",
       "      <td>7.803191</td>\n",
       "      <td>5.163585e+06</td>\n",
       "      <td>7.223039</td>\n",
       "    </tr>\n",
       "    <tr>\n",
       "      <th>min</th>\n",
       "      <td>22.129999</td>\n",
       "      <td>21.160000</td>\n",
       "      <td>21.670000</td>\n",
       "      <td>21.690001</td>\n",
       "      <td>2.692900e+06</td>\n",
       "      <td>18.701056</td>\n",
       "    </tr>\n",
       "    <tr>\n",
       "      <th>25%</th>\n",
       "      <td>32.209999</td>\n",
       "      <td>31.455000</td>\n",
       "      <td>31.805000</td>\n",
       "      <td>31.800000</td>\n",
       "      <td>7.972800e+06</td>\n",
       "      <td>27.560851</td>\n",
       "    </tr>\n",
       "    <tr>\n",
       "      <th>50%</th>\n",
       "      <td>37.340000</td>\n",
       "      <td>36.599998</td>\n",
       "      <td>36.930000</td>\n",
       "      <td>36.939999</td>\n",
       "      <td>1.031150e+07</td>\n",
       "      <td>31.284172</td>\n",
       "    </tr>\n",
       "    <tr>\n",
       "      <th>75%</th>\n",
       "      <td>43.815001</td>\n",
       "      <td>43.080000</td>\n",
       "      <td>43.514999</td>\n",
       "      <td>43.520000</td>\n",
       "      <td>1.369585e+07</td>\n",
       "      <td>38.406715</td>\n",
       "    </tr>\n",
       "    <tr>\n",
       "      <th>max</th>\n",
       "      <td>54.250000</td>\n",
       "      <td>53.119999</td>\n",
       "      <td>53.959999</td>\n",
       "      <td>53.849998</td>\n",
       "      <td>4.931190e+07</td>\n",
       "      <td>48.207184</td>\n",
       "    </tr>\n",
       "  </tbody>\n",
       "</table>\n",
       "</div>"
      ],
      "text/plain": [
       "             High         Low        Open       Close        Volume  \\\n",
       "count  755.000000  755.000000  755.000000  755.000000  7.550000e+02   \n",
       "mean    37.642728   36.896702   37.273682   37.271046  1.151909e+07   \n",
       "std      7.830516    7.792871    7.822502    7.803191  5.163585e+06   \n",
       "min     22.129999   21.160000   21.670000   21.690001  2.692900e+06   \n",
       "25%     32.209999   31.455000   31.805000   31.800000  7.972800e+06   \n",
       "50%     37.340000   36.599998   36.930000   36.939999  1.031150e+07   \n",
       "75%     43.815001   43.080000   43.514999   43.520000  1.369585e+07   \n",
       "max     54.250000   53.119999   53.959999   53.849998  4.931190e+07   \n",
       "\n",
       "        Adj Close  \n",
       "count  755.000000  \n",
       "mean    32.461086  \n",
       "std      7.223039  \n",
       "min     18.701056  \n",
       "25%     27.560851  \n",
       "50%     31.284172  \n",
       "75%     38.406715  \n",
       "max     48.207184  "
      ]
     },
     "execution_count": 11,
     "metadata": {},
     "output_type": "execute_result"
    }
   ],
   "source": [
    "ms.describe()"
   ]
  },
  {
   "cell_type": "code",
   "execution_count": 12,
   "metadata": {},
   "outputs": [
    {
     "data": {
      "text/html": [
       "<div>\n",
       "<style scoped>\n",
       "    .dataframe tbody tr th:only-of-type {\n",
       "        vertical-align: middle;\n",
       "    }\n",
       "\n",
       "    .dataframe tbody tr th {\n",
       "        vertical-align: top;\n",
       "    }\n",
       "\n",
       "    .dataframe thead th {\n",
       "        text-align: right;\n",
       "    }\n",
       "</style>\n",
       "<table border=\"1\" class=\"dataframe\">\n",
       "  <thead>\n",
       "    <tr style=\"text-align: right;\">\n",
       "      <th></th>\n",
       "      <th>High</th>\n",
       "      <th>Low</th>\n",
       "      <th>Open</th>\n",
       "      <th>Close</th>\n",
       "      <th>Volume</th>\n",
       "      <th>Adj Close</th>\n",
       "    </tr>\n",
       "  </thead>\n",
       "  <tbody>\n",
       "    <tr>\n",
       "      <th>count</th>\n",
       "      <td>755.000000</td>\n",
       "      <td>755.000000</td>\n",
       "      <td>755.000000</td>\n",
       "      <td>755.000000</td>\n",
       "      <td>7.550000e+02</td>\n",
       "      <td>755.000000</td>\n",
       "    </tr>\n",
       "    <tr>\n",
       "      <th>mean</th>\n",
       "      <td>121.730146</td>\n",
       "      <td>119.611285</td>\n",
       "      <td>120.723219</td>\n",
       "      <td>120.747576</td>\n",
       "      <td>2.308296e+07</td>\n",
       "      <td>120.747576</td>\n",
       "    </tr>\n",
       "    <tr>\n",
       "      <th>std</th>\n",
       "      <td>30.621480</td>\n",
       "      <td>30.493805</td>\n",
       "      <td>30.572276</td>\n",
       "      <td>30.575376</td>\n",
       "      <td>1.258505e+07</td>\n",
       "      <td>30.575376</td>\n",
       "    </tr>\n",
       "    <tr>\n",
       "      <th>min</th>\n",
       "      <td>74.830002</td>\n",
       "      <td>72.000000</td>\n",
       "      <td>74.040001</td>\n",
       "      <td>74.050003</td>\n",
       "      <td>5.913100e+06</td>\n",
       "      <td>74.050003</td>\n",
       "    </tr>\n",
       "    <tr>\n",
       "      <th>25%</th>\n",
       "      <td>96.200001</td>\n",
       "      <td>93.730000</td>\n",
       "      <td>94.969997</td>\n",
       "      <td>95.045002</td>\n",
       "      <td>1.488345e+07</td>\n",
       "      <td>95.045002</td>\n",
       "    </tr>\n",
       "    <tr>\n",
       "      <th>50%</th>\n",
       "      <td>118.669998</td>\n",
       "      <td>116.730003</td>\n",
       "      <td>117.739998</td>\n",
       "      <td>117.699997</td>\n",
       "      <td>1.988380e+07</td>\n",
       "      <td>117.699997</td>\n",
       "    </tr>\n",
       "    <tr>\n",
       "      <th>75%</th>\n",
       "      <td>141.550003</td>\n",
       "      <td>139.884995</td>\n",
       "      <td>140.900002</td>\n",
       "      <td>140.870003</td>\n",
       "      <td>2.665700e+07</td>\n",
       "      <td>140.870003</td>\n",
       "    </tr>\n",
       "    <tr>\n",
       "      <th>max</th>\n",
       "      <td>184.250000</td>\n",
       "      <td>182.089996</td>\n",
       "      <td>183.509995</td>\n",
       "      <td>183.029999</td>\n",
       "      <td>1.074753e+08</td>\n",
       "      <td>183.029999</td>\n",
       "    </tr>\n",
       "  </tbody>\n",
       "</table>\n",
       "</div>"
      ],
      "text/plain": [
       "             High         Low        Open       Close        Volume  \\\n",
       "count  755.000000  755.000000  755.000000  755.000000  7.550000e+02   \n",
       "mean   121.730146  119.611285  120.723219  120.747576  2.308296e+07   \n",
       "std     30.621480   30.493805   30.572276   30.575376  1.258505e+07   \n",
       "min     74.830002   72.000000   74.040001   74.050003  5.913100e+06   \n",
       "25%     96.200001   93.730000   94.969997   95.045002  1.488345e+07   \n",
       "50%    118.669998  116.730003  117.739998  117.699997  1.988380e+07   \n",
       "75%    141.550003  139.884995  140.900002  140.870003  2.665700e+07   \n",
       "max    184.250000  182.089996  183.509995  183.029999  1.074753e+08   \n",
       "\n",
       "        Adj Close  \n",
       "count  755.000000  \n",
       "mean   120.747576  \n",
       "std     30.575376  \n",
       "min     74.050003  \n",
       "25%     95.045002  \n",
       "50%    117.699997  \n",
       "75%    140.870003  \n",
       "max    183.029999  "
      ]
     },
     "execution_count": 12,
     "metadata": {},
     "output_type": "execute_result"
    }
   ],
   "source": [
    "fb.describe()"
   ]
  }
 ],
 "metadata": {
  "interpreter": {
   "hash": "b3ba2566441a7c06988d0923437866b63cedc61552a5af99d1f4fb67d367b25f"
  },
  "kernelspec": {
   "display_name": "Python 3.8.8 ('base')",
   "language": "python",
   "name": "python3"
  },
  "language_info": {
   "codemirror_mode": {
    "name": "ipython",
    "version": 3
   },
   "file_extension": ".py",
   "mimetype": "text/x-python",
   "name": "python",
   "nbconvert_exporter": "python",
   "pygments_lexer": "ipython3",
   "version": "3.8.8"
  },
  "orig_nbformat": 4
 },
 "nbformat": 4,
 "nbformat_minor": 2
}
