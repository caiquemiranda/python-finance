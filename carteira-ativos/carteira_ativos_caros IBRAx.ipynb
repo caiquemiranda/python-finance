{
 "cells": [
  {
   "cell_type": "code",
   "execution_count": 1,
   "metadata": {},
   "outputs": [],
   "source": [
    "import MetaTrader5 as mt5\n",
    "import pandas as pd\n",
    "import pandas_ta as ta\n",
    "import time\n",
    "import numpy as np\n",
    "from datetime import datetime\n",
    "import matplotlib.pyplot as plt\n",
    "from pylab import mpl, plt\n",
    "import plotly.express as px"
   ]
  },
  {
   "cell_type": "code",
   "execution_count": 2,
   "metadata": {},
   "outputs": [],
   "source": [
    "plt.style.use('seaborn')\n",
    "mpl.rcParams['savefig.dpi'] = 300\n",
    "mpl.rcParams['font.family'] = 'serif'"
   ]
  },
  {
   "cell_type": "code",
   "execution_count": 3,
   "metadata": {},
   "outputs": [
    {
     "data": {
      "text/plain": [
       "0      RRRP3\n",
       "1      TTEN3\n",
       "2      ABCB4\n",
       "3      AERI3\n",
       "4      AESB3\n",
       "       ...  \n",
       "205    VULC3\n",
       "206    WEGE3\n",
       "207    WEST3\n",
       "208    WIZS3\n",
       "209    YDUQ3\n",
       "Name: CODIGO, Length: 210, dtype: object"
      ]
     },
     "execution_count": 3,
     "metadata": {},
     "output_type": "execute_result"
    }
   ],
   "source": [
    "df = pd.read_csv('../IBRA_D.csv', sep=';')\n",
    "df.rename(columns={\"C�digo\": \"CODIGO\", \"A��o\": \"AÇAO\"}, inplace=True)\n",
    "df = df.iloc[:-2, :]\n",
    "df['CODIGO']"
   ]
  },
  {
   "cell_type": "code",
   "execution_count": 4,
   "metadata": {},
   "outputs": [
    {
     "data": {
      "text/plain": [
       "0      RRRP3\n",
       "1      TTEN3\n",
       "2      ABCB4\n",
       "3      AERI3\n",
       "4      AESB3\n",
       "       ...  \n",
       "205    VULC3\n",
       "206    WEGE3\n",
       "207    WEST3\n",
       "208    WIZS3\n",
       "209    YDUQ3\n",
       "Name: CODIGO, Length: 210, dtype: object"
      ]
     },
     "execution_count": 4,
     "metadata": {},
     "output_type": "execute_result"
    }
   ],
   "source": [
    "Symbols = df['CODIGO']\n",
    "Symbols"
   ]
  },
  {
   "cell_type": "code",
   "execution_count": 5,
   "metadata": {},
   "outputs": [
    {
     "data": {
      "text/plain": [
       "['RRRP3',\n",
       " 'TTEN3',\n",
       " 'ABCB4',\n",
       " 'AERI3',\n",
       " 'AESB3',\n",
       " 'ALSO3',\n",
       " 'AALR3',\n",
       " 'ALLD3',\n",
       " 'ALPA4',\n",
       " 'ALUP11',\n",
       " 'ABEV3',\n",
       " 'AMBP3',\n",
       " 'AMER3',\n",
       " 'ANIM3',\n",
       " 'ARZZ3',\n",
       " 'ARML3',\n",
       " 'ASAI3',\n",
       " 'AZUL4',\n",
       " 'B3SA3',\n",
       " 'BMGB4',\n",
       " 'BIDI11',\n",
       " 'BPAN4',\n",
       " 'BRSR6',\n",
       " 'BBSE3',\n",
       " 'BMOB3',\n",
       " 'BKBR3',\n",
       " 'BLAU3',\n",
       " 'BOAS3',\n",
       " 'BRML3',\n",
       " 'BRPR3',\n",
       " 'BBDC3',\n",
       " 'BBDC4',\n",
       " 'BRAP4',\n",
       " 'BBAS3',\n",
       " 'AGRO3',\n",
       " 'BRKM5',\n",
       " 'BRFS3',\n",
       " 'BPAC11',\n",
       " 'CXSE3',\n",
       " 'CAML3',\n",
       " 'CRFB3',\n",
       " 'CBAV3',\n",
       " 'CCRO3',\n",
       " 'CEAB3',\n",
       " 'CMIG3',\n",
       " 'CMIG4',\n",
       " 'CESP6',\n",
       " 'CIEL3',\n",
       " 'CLSA3',\n",
       " 'COGN3',\n",
       " 'CSMG3',\n",
       " 'CPLE3',\n",
       " 'CPLE6',\n",
       " 'CSAN3',\n",
       " 'CPFE3',\n",
       " 'CMIN3',\n",
       " 'CARD3',\n",
       " 'CURY3',\n",
       " 'CVCB3',\n",
       " 'CYRE3',\n",
       " 'DASA3',\n",
       " 'DXCO3',\n",
       " 'DEXP3',\n",
       " 'PNVL3',\n",
       " 'DIRR3',\n",
       " 'ECOR3',\n",
       " 'ELET3',\n",
       " 'ELET6',\n",
       " 'EMBR3',\n",
       " 'ENAT3',\n",
       " 'ENBR3',\n",
       " 'ENGI11',\n",
       " 'ENEV3',\n",
       " 'EGIE3',\n",
       " 'ENJU3',\n",
       " 'EQTL3',\n",
       " 'ESPA3',\n",
       " 'EVEN3',\n",
       " 'EZTC3',\n",
       " 'FESA4',\n",
       " 'FLRY3',\n",
       " 'GFSA3',\n",
       " 'GGBR4',\n",
       " 'GOAU4',\n",
       " 'GETT11',\n",
       " 'GOLL4',\n",
       " 'GGPS3',\n",
       " 'GRND3',\n",
       " 'GMAT3',\n",
       " 'NTCO3',\n",
       " 'SBFG3',\n",
       " 'SOMA3',\n",
       " 'GUAR3',\n",
       " 'HAPV3',\n",
       " 'HBOR3',\n",
       " 'HBSA3',\n",
       " 'HYPE3',\n",
       " 'IGTI11',\n",
       " 'PARD3',\n",
       " 'MEAL3',\n",
       " 'ROMI3',\n",
       " 'IFCM3',\n",
       " 'INTB3',\n",
       " 'GNDI3',\n",
       " 'MYPK3',\n",
       " 'RANI3',\n",
       " 'IRBR3',\n",
       " 'ITSA4',\n",
       " 'ITUB3',\n",
       " 'ITUB4',\n",
       " 'JALL3',\n",
       " 'JBSS3',\n",
       " 'JHSF3',\n",
       " 'KEPL3',\n",
       " 'KLBN11',\n",
       " 'LAVV3',\n",
       " 'LIGT3',\n",
       " 'RENT3',\n",
       " 'LCAM3',\n",
       " 'LWSA3',\n",
       " 'LOGG3',\n",
       " 'LOGN3',\n",
       " 'AMAR3',\n",
       " 'LREN3',\n",
       " 'MDIA3',\n",
       " 'MGLU3',\n",
       " 'POMO4',\n",
       " 'MRFG3',\n",
       " 'MATD3',\n",
       " 'CASH3',\n",
       " 'LEVE3',\n",
       " 'MILS3',\n",
       " 'BEEF3',\n",
       " 'MTRE3',\n",
       " 'MODL11',\n",
       " 'MOSI3',\n",
       " 'MOVI3',\n",
       " 'MRVE3',\n",
       " 'MLAS3',\n",
       " 'MULT3',\n",
       " 'NEOE3',\n",
       " 'NGRD3',\n",
       " 'OPCT3',\n",
       " 'ODPV3',\n",
       " 'MEGA3',\n",
       " 'ONCO3',\n",
       " 'ORVR3',\n",
       " 'PCAR3',\n",
       " 'PGMN3',\n",
       " 'PETR3',\n",
       " 'PETR4',\n",
       " 'RECV3',\n",
       " 'PRIO3',\n",
       " 'PETZ3',\n",
       " 'PLPL3',\n",
       " 'PSSA3',\n",
       " 'PTBL3',\n",
       " 'POSI3',\n",
       " 'QUAL3',\n",
       " 'LJQQ3',\n",
       " 'RADL3',\n",
       " 'RAIZ4',\n",
       " 'RAPT4',\n",
       " 'RCSL3',\n",
       " 'RCSL4',\n",
       " 'RDOR3',\n",
       " 'RAIL3',\n",
       " 'SBSP3',\n",
       " 'SAPR11',\n",
       " 'SANB11',\n",
       " 'STBP3',\n",
       " 'SMTO3',\n",
       " 'SEQL3',\n",
       " 'SEER3',\n",
       " 'CSNA3',\n",
       " 'SIMH3',\n",
       " 'SQIA3',\n",
       " 'SLCE3',\n",
       " 'SULA11',\n",
       " 'SUZB3',\n",
       " 'SYNE3',\n",
       " 'TAEE11',\n",
       " 'TASA4',\n",
       " 'TRAD3',\n",
       " 'TECN3',\n",
       " 'TCSA3',\n",
       " 'TGMA3',\n",
       " 'VIVT3',\n",
       " 'TEND3',\n",
       " 'TIMS3',\n",
       " 'TOTS3',\n",
       " 'TRPL4',\n",
       " 'TRIS3',\n",
       " 'TPIS3',\n",
       " 'TUPY3',\n",
       " 'UGPA3',\n",
       " 'UNIP6',\n",
       " 'USIM3',\n",
       " 'USIM5',\n",
       " 'VALE3',\n",
       " 'VLID3',\n",
       " 'VAMO3',\n",
       " 'VIIA3',\n",
       " 'VBBR3',\n",
       " 'VIVA3',\n",
       " 'VULC3',\n",
       " 'WEGE3',\n",
       " 'WEST3',\n",
       " 'WIZS3',\n",
       " 'YDUQ3']"
      ]
     },
     "execution_count": 5,
     "metadata": {},
     "output_type": "execute_result"
    }
   ],
   "source": [
    "ativos = [tick for tick in Symbols]\n",
    "ativos"
   ]
  },
  {
   "cell_type": "code",
   "execution_count": 6,
   "metadata": {},
   "outputs": [],
   "source": [
    "def get_ohlc(ativo, timeframe, n=5):\n",
    "    ativo = mt5.copy_rates_from_pos(ativo, timeframe, 0, n)\n",
    "    ativo = pd.DataFrame(ativo)\n",
    "    ativo['time'] = pd.to_datetime(ativo['time'], unit='s')\n",
    "    ativo.set_index('time', inplace=True)\n",
    "    return ativo"
   ]
  },
  {
   "cell_type": "code",
   "execution_count": 7,
   "metadata": {},
   "outputs": [],
   "source": [
    "# calculo percentil para determinar intervalo de confiança\n",
    "\n",
    "def percentil(data, up=90, down=10):\n",
    "    x = data\n",
    "    x = x.dropna()\n",
    "    array_x = np.array(x)\n",
    "    percentil_up = np.percentile(array_x, up)\n",
    "    percentil_down = np.percentile(array_x, down)\n",
    "    \n",
    "    return [percentil_up, percentil_down]"
   ]
  },
  {
   "cell_type": "code",
   "execution_count": 8,
   "metadata": {},
   "outputs": [],
   "source": [
    "def caroBarato(tick_ativo, up, down, dias):\n",
    "    # coleta de dados\n",
    "    if not mt5.initialize():\n",
    "        print('initialize() falhou')\n",
    "        mt5.shutdown()\n",
    "\n",
    "    df = get_ohlc(tick_ativo, mt5.TIMEFRAME_D1, dias)\n",
    "\n",
    "    # criação médias\n",
    "    df['M20'] = ta.sma(df['close'], length=20)\n",
    "    df['M50'] = ta.sma(df['close'], length=50)\n",
    "    df['M200'] = ta.sma(df['close'], length=200)\n",
    "\n",
    "    #criação distancia média\n",
    "    df['Dist20'] = df['close'] - df['M20'] \n",
    "    df['Dist50'] = df['close'] - df['M50']\n",
    "    df['Dist200'] = df['close'] - df['M200']\n",
    "    \n",
    "    # filtro\n",
    "    df = df[df['real_volume'] > 0]\n",
    "\n",
    "    # calculo percentil das distancia da média \n",
    "    # return percentil_up, percentil_down\n",
    "    per_m20 = percentil(df['Dist20'], up, down)\n",
    "    per_m50 = percentil(df['Dist50'], up, down)\n",
    "    per_m200 = percentil(df['Dist200'], up, down)\n",
    "\n",
    "    # transformação em um array\n",
    "    \n",
    "    # variavel temporaria\n",
    "    valor = 0\n",
    "\n",
    "    # logica\n",
    "    # logica valor = +1 +2 +4 or -1 -2 -4 para diferenciar qual média aponta distancia\n",
    "    if df['Dist20'][-1] > per_m20[0]:\n",
    "        valor += 1\n",
    "    \n",
    "    if df['Dist50'][-1] > per_m50[0]:\n",
    "        valor += 2\n",
    "    \n",
    "    if df['Dist200'][-1] > per_m200[0]:\n",
    "        valor += 4\n",
    "    \n",
    "    if df['Dist20'][-1] < per_m20[1]:\n",
    "        valor -= 1\n",
    "    \n",
    "    if df['Dist50'][-1] < per_m50[1]:\n",
    "        valor -= 2\n",
    "    \n",
    "    if df['Dist200'][-1] < per_m200[1]:\n",
    "        valor -= 4\n",
    "\n",
    "    return valor"
   ]
  },
  {
   "cell_type": "code",
   "execution_count": 9,
   "metadata": {},
   "outputs": [
    {
     "data": {
      "text/plain": [
       "0"
      ]
     },
     "execution_count": 9,
     "metadata": {},
     "output_type": "execute_result"
    }
   ],
   "source": [
    "caroBarato('PETR4', 95, 5, 500)"
   ]
  },
  {
   "cell_type": "code",
   "execution_count": 10,
   "metadata": {},
   "outputs": [
    {
     "name": "stdout",
     "output_type": "stream",
     "text": [
      "COLETA DE RRRP3\n",
      "TTEN3 SEM COLETA\n",
      "COLETA DE ABCB4\n",
      "COLETA DE AERI3\n",
      "COLETA DE AESB3\n",
      "COLETA DE ALSO3\n",
      "COLETA DE AALR3\n",
      "COLETA DE ALLD3\n",
      "COLETA DE ALPA4\n",
      "COLETA DE ALUP11\n",
      "COLETA DE ABEV3\n",
      "COLETA DE AMBP3\n",
      "COLETA DE AMER3\n",
      "COLETA DE ANIM3\n",
      "COLETA DE ARZZ3\n",
      "ARML3 SEM COLETA\n",
      "COLETA DE ASAI3\n",
      "COLETA DE AZUL4\n",
      "COLETA DE B3SA3\n",
      "COLETA DE BMGB4\n",
      "COLETA DE BIDI11\n",
      "COLETA DE BPAN4\n",
      "COLETA DE BRSR6\n",
      "COLETA DE BBSE3\n",
      "COLETA DE BMOB3\n",
      "COLETA DE BKBR3\n",
      "COLETA DE BLAU3\n",
      "COLETA DE BOAS3\n",
      "COLETA DE BRML3\n",
      "COLETA DE BRPR3\n",
      "COLETA DE BBDC3\n",
      "COLETA DE BBDC4\n",
      "COLETA DE BRAP4\n",
      "COLETA DE BBAS3\n",
      "COLETA DE AGRO3\n",
      "COLETA DE BRKM5\n",
      "COLETA DE BRFS3\n",
      "COLETA DE BPAC11\n",
      "CXSE3 SEM COLETA\n",
      "COLETA DE CAML3\n",
      "COLETA DE CRFB3\n",
      "CBAV3 SEM COLETA\n",
      "COLETA DE CCRO3\n",
      "COLETA DE CEAB3\n",
      "COLETA DE CMIG3\n",
      "COLETA DE CMIG4\n",
      "COLETA DE CESP6\n",
      "COLETA DE CIEL3\n",
      "CLSA3 SEM COLETA\n",
      "COLETA DE COGN3\n",
      "COLETA DE CSMG3\n",
      "COLETA DE CPLE3\n",
      "COLETA DE CPLE6\n",
      "COLETA DE CSAN3\n",
      "COLETA DE CPFE3\n",
      "COLETA DE CMIN3\n",
      "COLETA DE CARD3\n",
      "COLETA DE CURY3\n",
      "COLETA DE CVCB3\n",
      "COLETA DE CYRE3\n",
      "COLETA DE DASA3\n",
      "COLETA DE DXCO3\n",
      "COLETA DE DEXP3\n",
      "COLETA DE PNVL3\n",
      "COLETA DE DIRR3\n",
      "COLETA DE ECOR3\n",
      "COLETA DE ELET3\n",
      "COLETA DE ELET6\n",
      "COLETA DE EMBR3\n",
      "COLETA DE ENAT3\n",
      "COLETA DE ENBR3\n",
      "COLETA DE ENGI11\n",
      "COLETA DE ENEV3\n",
      "COLETA DE EGIE3\n",
      "COLETA DE ENJU3\n",
      "COLETA DE EQTL3\n",
      "COLETA DE ESPA3\n",
      "COLETA DE EVEN3\n",
      "COLETA DE EZTC3\n",
      "COLETA DE FESA4\n",
      "COLETA DE FLRY3\n",
      "COLETA DE GFSA3\n",
      "COLETA DE GGBR4\n",
      "COLETA DE GOAU4\n",
      "GETT11 SEM COLETA\n",
      "COLETA DE GOLL4\n",
      "GGPS3 SEM COLETA\n",
      "COLETA DE GRND3\n",
      "COLETA DE GMAT3\n",
      "COLETA DE NTCO3\n",
      "COLETA DE SBFG3\n",
      "COLETA DE SOMA3\n",
      "COLETA DE GUAR3\n",
      "COLETA DE HAPV3\n",
      "COLETA DE HBOR3\n",
      "COLETA DE HBSA3\n",
      "COLETA DE HYPE3\n",
      "IGTI11 SEM COLETA\n",
      "COLETA DE PARD3\n",
      "COLETA DE MEAL3\n",
      "COLETA DE ROMI3\n",
      "IFCM3 SEM COLETA\n",
      "COLETA DE INTB3\n",
      "COLETA DE GNDI3\n",
      "COLETA DE MYPK3\n",
      "COLETA DE RANI3\n",
      "COLETA DE IRBR3\n",
      "COLETA DE ITSA4\n",
      "COLETA DE ITUB3\n",
      "COLETA DE ITUB4\n",
      "COLETA DE JALL3\n",
      "COLETA DE JBSS3\n",
      "COLETA DE JHSF3\n",
      "COLETA DE KEPL3\n",
      "COLETA DE KLBN11\n",
      "COLETA DE LAVV3\n",
      "COLETA DE LIGT3\n",
      "COLETA DE RENT3\n",
      "COLETA DE LCAM3\n",
      "COLETA DE LWSA3\n",
      "COLETA DE LOGG3\n",
      "COLETA DE LOGN3\n",
      "COLETA DE AMAR3\n",
      "COLETA DE LREN3\n",
      "COLETA DE MDIA3\n",
      "COLETA DE MGLU3\n",
      "COLETA DE POMO4\n",
      "COLETA DE MRFG3\n",
      "COLETA DE MATD3\n",
      "COLETA DE CASH3\n",
      "COLETA DE LEVE3\n",
      "COLETA DE MILS3\n",
      "COLETA DE BEEF3\n",
      "COLETA DE MTRE3\n",
      "MODL11 SEM COLETA\n",
      "COLETA DE MOSI3\n",
      "COLETA DE MOVI3\n",
      "COLETA DE MRVE3\n",
      "MLAS3 SEM COLETA\n",
      "COLETA DE MULT3\n",
      "COLETA DE NEOE3\n",
      "COLETA DE NGRD3\n",
      "COLETA DE OPCT3\n",
      "COLETA DE ODPV3\n",
      "MEGA3 SEM COLETA\n",
      "ONCO3 SEM COLETA\n",
      "COLETA DE ORVR3\n",
      "COLETA DE PCAR3\n",
      "COLETA DE PGMN3\n",
      "COLETA DE PETR3\n",
      "COLETA DE PETR4\n",
      "RECV3 SEM COLETA\n",
      "COLETA DE PRIO3\n",
      "COLETA DE PETZ3\n",
      "COLETA DE PLPL3\n",
      "COLETA DE PSSA3\n",
      "COLETA DE PTBL3\n",
      "COLETA DE POSI3\n",
      "COLETA DE QUAL3\n",
      "COLETA DE LJQQ3\n",
      "COLETA DE RADL3\n",
      "RAIZ4 SEM COLETA\n",
      "COLETA DE RAPT4\n",
      "COLETA DE RCSL3\n",
      "COLETA DE RCSL4\n",
      "COLETA DE RDOR3\n",
      "COLETA DE RAIL3\n",
      "COLETA DE SBSP3\n",
      "COLETA DE SAPR11\n",
      "COLETA DE SANB11\n",
      "COLETA DE STBP3\n",
      "COLETA DE SMTO3\n",
      "COLETA DE SEQL3\n",
      "COLETA DE SEER3\n",
      "COLETA DE CSNA3\n",
      "COLETA DE SIMH3\n",
      "COLETA DE SQIA3\n",
      "COLETA DE SLCE3\n",
      "COLETA DE SULA11\n",
      "COLETA DE SUZB3\n",
      "SYNE3 SEM COLETA\n",
      "COLETA DE TAEE11\n",
      "COLETA DE TASA4\n",
      "TRAD3 SEM COLETA\n",
      "COLETA DE TECN3\n",
      "COLETA DE TCSA3\n",
      "COLETA DE TGMA3\n",
      "COLETA DE VIVT3\n",
      "COLETA DE TEND3\n",
      "COLETA DE TIMS3\n",
      "COLETA DE TOTS3\n",
      "COLETA DE TRPL4\n",
      "COLETA DE TRIS3\n",
      "COLETA DE TPIS3\n",
      "COLETA DE TUPY3\n",
      "COLETA DE UGPA3\n",
      "COLETA DE UNIP6\n",
      "COLETA DE USIM3\n",
      "COLETA DE USIM5\n",
      "COLETA DE VALE3\n",
      "COLETA DE VLID3\n",
      "COLETA DE VAMO3\n",
      "COLETA DE VIIA3\n",
      "COLETA DE VBBR3\n",
      "COLETA DE VIVA3\n",
      "COLETA DE VULC3\n",
      "COLETA DE WEGE3\n",
      "COLETA DE WEST3\n",
      "COLETA DE WIZS3\n",
      "COLETA DE YDUQ3\n"
     ]
    }
   ],
   "source": [
    "dicionarioCarobarato = {}\n",
    "for ativo in ativos:\n",
    "    try:\n",
    "        dicionarioCarobarato[ativo] = caroBarato(ativo, 95, 5, 500)\n",
    "        print(f'COLETA DE {ativo}')\n",
    "    except:\n",
    "        print(f'{ativo} SEM COLETA')\n",
    "        #dicionarioCarobarato[ativo] = 'NAN'\n",
    "dicionarioCarobarato = pd.DataFrame.from_dict(dicionarioCarobarato, orient='index').reset_index()"
   ]
  },
  {
   "cell_type": "code",
   "execution_count": 11,
   "metadata": {},
   "outputs": [
    {
     "data": {
      "text/html": [
       "<div>\n",
       "<style scoped>\n",
       "    .dataframe tbody tr th:only-of-type {\n",
       "        vertical-align: middle;\n",
       "    }\n",
       "\n",
       "    .dataframe tbody tr th {\n",
       "        vertical-align: top;\n",
       "    }\n",
       "\n",
       "    .dataframe thead th {\n",
       "        text-align: right;\n",
       "    }\n",
       "</style>\n",
       "<table border=\"1\" class=\"dataframe\">\n",
       "  <thead>\n",
       "    <tr style=\"text-align: right;\">\n",
       "      <th></th>\n",
       "      <th>Ticker</th>\n",
       "      <th>Valor</th>\n",
       "    </tr>\n",
       "  </thead>\n",
       "  <tbody>\n",
       "    <tr>\n",
       "      <th>0</th>\n",
       "      <td>RRRP3</td>\n",
       "      <td>0</td>\n",
       "    </tr>\n",
       "    <tr>\n",
       "      <th>1</th>\n",
       "      <td>ABCB4</td>\n",
       "      <td>0</td>\n",
       "    </tr>\n",
       "    <tr>\n",
       "      <th>2</th>\n",
       "      <td>AERI3</td>\n",
       "      <td>0</td>\n",
       "    </tr>\n",
       "    <tr>\n",
       "      <th>3</th>\n",
       "      <td>AESB3</td>\n",
       "      <td>0</td>\n",
       "    </tr>\n",
       "    <tr>\n",
       "      <th>4</th>\n",
       "      <td>ALSO3</td>\n",
       "      <td>0</td>\n",
       "    </tr>\n",
       "    <tr>\n",
       "      <th>...</th>\n",
       "      <td>...</td>\n",
       "      <td>...</td>\n",
       "    </tr>\n",
       "    <tr>\n",
       "      <th>188</th>\n",
       "      <td>VULC3</td>\n",
       "      <td>-4</td>\n",
       "    </tr>\n",
       "    <tr>\n",
       "      <th>189</th>\n",
       "      <td>WEGE3</td>\n",
       "      <td>0</td>\n",
       "    </tr>\n",
       "    <tr>\n",
       "      <th>190</th>\n",
       "      <td>WEST3</td>\n",
       "      <td>0</td>\n",
       "    </tr>\n",
       "    <tr>\n",
       "      <th>191</th>\n",
       "      <td>WIZS3</td>\n",
       "      <td>0</td>\n",
       "    </tr>\n",
       "    <tr>\n",
       "      <th>192</th>\n",
       "      <td>YDUQ3</td>\n",
       "      <td>0</td>\n",
       "    </tr>\n",
       "  </tbody>\n",
       "</table>\n",
       "<p>193 rows × 2 columns</p>\n",
       "</div>"
      ],
      "text/plain": [
       "    Ticker  Valor\n",
       "0    RRRP3      0\n",
       "1    ABCB4      0\n",
       "2    AERI3      0\n",
       "3    AESB3      0\n",
       "4    ALSO3      0\n",
       "..     ...    ...\n",
       "188  VULC3     -4\n",
       "189  WEGE3      0\n",
       "190  WEST3      0\n",
       "191  WIZS3      0\n",
       "192  YDUQ3      0\n",
       "\n",
       "[193 rows x 2 columns]"
      ]
     },
     "execution_count": 11,
     "metadata": {},
     "output_type": "execute_result"
    }
   ],
   "source": [
    "dicionarioCarobarato.columns = [\"Ticker\", \"Valor\"]\n",
    "dicionarioCarobarato"
   ]
  },
  {
   "cell_type": "code",
   "execution_count": 12,
   "metadata": {},
   "outputs": [
    {
     "data": {
      "text/html": [
       "<div>\n",
       "<style scoped>\n",
       "    .dataframe tbody tr th:only-of-type {\n",
       "        vertical-align: middle;\n",
       "    }\n",
       "\n",
       "    .dataframe tbody tr th {\n",
       "        vertical-align: top;\n",
       "    }\n",
       "\n",
       "    .dataframe thead th {\n",
       "        text-align: right;\n",
       "    }\n",
       "</style>\n",
       "<table border=\"1\" class=\"dataframe\">\n",
       "  <thead>\n",
       "    <tr style=\"text-align: right;\">\n",
       "      <th></th>\n",
       "      <th>Ticker</th>\n",
       "      <th>Valor</th>\n",
       "    </tr>\n",
       "  </thead>\n",
       "  <tbody>\n",
       "    <tr>\n",
       "      <th>52</th>\n",
       "      <td>CURY3</td>\n",
       "      <td>2</td>\n",
       "    </tr>\n",
       "    <tr>\n",
       "      <th>162</th>\n",
       "      <td>SLCE3</td>\n",
       "      <td>2</td>\n",
       "    </tr>\n",
       "    <tr>\n",
       "      <th>22</th>\n",
       "      <td>BMOB3</td>\n",
       "      <td>4</td>\n",
       "    </tr>\n",
       "    <tr>\n",
       "      <th>69</th>\n",
       "      <td>ENJU3</td>\n",
       "      <td>4</td>\n",
       "    </tr>\n",
       "    <tr>\n",
       "      <th>133</th>\n",
       "      <td>ORVR3</td>\n",
       "      <td>4</td>\n",
       "    </tr>\n",
       "    <tr>\n",
       "      <th>136</th>\n",
       "      <td>PETR3</td>\n",
       "      <td>4</td>\n",
       "    </tr>\n",
       "    <tr>\n",
       "      <th>140</th>\n",
       "      <td>PLPL3</td>\n",
       "      <td>4</td>\n",
       "    </tr>\n",
       "    <tr>\n",
       "      <th>153</th>\n",
       "      <td>SAPR11</td>\n",
       "      <td>4</td>\n",
       "    </tr>\n",
       "    <tr>\n",
       "      <th>46</th>\n",
       "      <td>CPLE3</td>\n",
       "      <td>6</td>\n",
       "    </tr>\n",
       "    <tr>\n",
       "      <th>47</th>\n",
       "      <td>CPLE6</td>\n",
       "      <td>6</td>\n",
       "    </tr>\n",
       "    <tr>\n",
       "      <th>183</th>\n",
       "      <td>VLID3</td>\n",
       "      <td>7</td>\n",
       "    </tr>\n",
       "  </tbody>\n",
       "</table>\n",
       "</div>"
      ],
      "text/plain": [
       "     Ticker  Valor\n",
       "52    CURY3      2\n",
       "162   SLCE3      2\n",
       "22    BMOB3      4\n",
       "69    ENJU3      4\n",
       "133   ORVR3      4\n",
       "136   PETR3      4\n",
       "140   PLPL3      4\n",
       "153  SAPR11      4\n",
       "46    CPLE3      6\n",
       "47    CPLE6      6\n",
       "183   VLID3      7"
      ]
     },
     "execution_count": 12,
     "metadata": {},
     "output_type": "execute_result"
    }
   ],
   "source": [
    "ativos_caros = dicionarioCarobarato[dicionarioCarobarato['Valor'] > 1]\n",
    "ativos_caros.sort_values(by='Valor')"
   ]
  },
  {
   "cell_type": "code",
   "execution_count": 13,
   "metadata": {},
   "outputs": [
    {
     "data": {
      "text/html": [
       "<div>\n",
       "<style scoped>\n",
       "    .dataframe tbody tr th:only-of-type {\n",
       "        vertical-align: middle;\n",
       "    }\n",
       "\n",
       "    .dataframe tbody tr th {\n",
       "        vertical-align: top;\n",
       "    }\n",
       "\n",
       "    .dataframe thead th {\n",
       "        text-align: right;\n",
       "    }\n",
       "</style>\n",
       "<table border=\"1\" class=\"dataframe\">\n",
       "  <thead>\n",
       "    <tr style=\"text-align: right;\">\n",
       "      <th></th>\n",
       "      <th>Ticker</th>\n",
       "      <th>Valor</th>\n",
       "    </tr>\n",
       "  </thead>\n",
       "  <tbody>\n",
       "    <tr>\n",
       "      <th>34</th>\n",
       "      <td>BRFS3</td>\n",
       "      <td>-7</td>\n",
       "    </tr>\n",
       "    <tr>\n",
       "      <th>7</th>\n",
       "      <td>ALPA4</td>\n",
       "      <td>-6</td>\n",
       "    </tr>\n",
       "    <tr>\n",
       "      <th>151</th>\n",
       "      <td>RAIL3</td>\n",
       "      <td>-6</td>\n",
       "    </tr>\n",
       "    <tr>\n",
       "      <th>9</th>\n",
       "      <td>ABEV3</td>\n",
       "      <td>-4</td>\n",
       "    </tr>\n",
       "    <tr>\n",
       "      <th>19</th>\n",
       "      <td>BPAN4</td>\n",
       "      <td>-4</td>\n",
       "    </tr>\n",
       "    <tr>\n",
       "      <th>41</th>\n",
       "      <td>CMIG4</td>\n",
       "      <td>-4</td>\n",
       "    </tr>\n",
       "    <tr>\n",
       "      <th>63</th>\n",
       "      <td>EMBR3</td>\n",
       "      <td>-4</td>\n",
       "    </tr>\n",
       "    <tr>\n",
       "      <th>96</th>\n",
       "      <td>RANI3</td>\n",
       "      <td>-4</td>\n",
       "    </tr>\n",
       "    <tr>\n",
       "      <th>97</th>\n",
       "      <td>IRBR3</td>\n",
       "      <td>-4</td>\n",
       "    </tr>\n",
       "    <tr>\n",
       "      <th>101</th>\n",
       "      <td>JALL3</td>\n",
       "      <td>-4</td>\n",
       "    </tr>\n",
       "    <tr>\n",
       "      <th>119</th>\n",
       "      <td>MATD3</td>\n",
       "      <td>-4</td>\n",
       "    </tr>\n",
       "    <tr>\n",
       "      <th>121</th>\n",
       "      <td>LEVE3</td>\n",
       "      <td>-4</td>\n",
       "    </tr>\n",
       "    <tr>\n",
       "      <th>142</th>\n",
       "      <td>PTBL3</td>\n",
       "      <td>-4</td>\n",
       "    </tr>\n",
       "    <tr>\n",
       "      <th>149</th>\n",
       "      <td>RCSL4</td>\n",
       "      <td>-4</td>\n",
       "    </tr>\n",
       "    <tr>\n",
       "      <th>188</th>\n",
       "      <td>VULC3</td>\n",
       "      <td>-4</td>\n",
       "    </tr>\n",
       "  </tbody>\n",
       "</table>\n",
       "</div>"
      ],
      "text/plain": [
       "    Ticker  Valor\n",
       "34   BRFS3     -7\n",
       "7    ALPA4     -6\n",
       "151  RAIL3     -6\n",
       "9    ABEV3     -4\n",
       "19   BPAN4     -4\n",
       "41   CMIG4     -4\n",
       "63   EMBR3     -4\n",
       "96   RANI3     -4\n",
       "97   IRBR3     -4\n",
       "101  JALL3     -4\n",
       "119  MATD3     -4\n",
       "121  LEVE3     -4\n",
       "142  PTBL3     -4\n",
       "149  RCSL4     -4\n",
       "188  VULC3     -4"
      ]
     },
     "execution_count": 13,
     "metadata": {},
     "output_type": "execute_result"
    }
   ],
   "source": [
    "ativos_baratos = dicionarioCarobarato[dicionarioCarobarato['Valor'] < -1]\n",
    "ativos_baratos.sort_values(by='Valor')"
   ]
  },
  {
   "cell_type": "code",
   "execution_count": 14,
   "metadata": {},
   "outputs": [],
   "source": [
    "# colocar filtro de liquidez\n",
    "# colocar coleta yahoo finace\n",
    "# colocar Scatterplot "
   ]
  },
  {
   "cell_type": "code",
   "execution_count": 15,
   "metadata": {},
   "outputs": [],
   "source": [
    "# filtro diferente de 0\n",
    "dicionarioCarobarato = dicionarioCarobarato[dicionarioCarobarato['Valor'] != 0]"
   ]
  },
  {
   "cell_type": "code",
   "execution_count": 16,
   "metadata": {},
   "outputs": [],
   "source": [
    "dicionarioCarobarato = dicionarioCarobarato.sort_values(by='Valor')"
   ]
  },
  {
   "cell_type": "code",
   "execution_count": 22,
   "metadata": {},
   "outputs": [
    {
     "data": {
      "application/vnd.plotly.v1+json": {
       "config": {
        "plotlyServerURL": "https://plot.ly"
       },
       "data": [
        {
         "dimensions": [
          {
           "axis": {
            "matches": true
           },
           "label": "Ticker",
           "values": [
            "BRFS3",
            "ALPA4",
            "RAIL3",
            "RCSL4",
            "PTBL3",
            "LEVE3",
            "MATD3",
            "JALL3",
            "IRBR3",
            "RANI3",
            "VULC3",
            "CMIG4",
            "ABEV3",
            "EMBR3",
            "BPAN4",
            "MRFG3",
            "KEPL3",
            "TOTS3",
            "STBP3",
            "BBSE3",
            "CURY3",
            "SLCE3",
            "SAPR11",
            "ENJU3",
            "ORVR3",
            "BMOB3",
            "PLPL3",
            "PETR3",
            "CPLE3",
            "CPLE6",
            "VLID3"
           ]
          },
          {
           "axis": {
            "matches": true
           },
           "label": "Valor",
           "values": [
            -7,
            -6,
            -6,
            -4,
            -4,
            -4,
            -4,
            -4,
            -4,
            -4,
            -4,
            -4,
            -4,
            -4,
            -4,
            -1,
            1,
            1,
            1,
            1,
            2,
            2,
            4,
            4,
            4,
            4,
            4,
            4,
            6,
            6,
            7
           ]
          }
         ],
         "hovertemplate": "%{xaxis.title.text}=%{x}<br>%{yaxis.title.text}=%{y}<extra></extra>",
         "legendgroup": "",
         "marker": {
          "color": "#636efa",
          "symbol": "circle"
         },
         "name": "",
         "showlegend": false,
         "type": "splom"
        }
       ],
       "layout": {
        "dragmode": "select",
        "legend": {
         "tracegroupgap": 0
        },
        "margin": {
         "t": 60
        },
        "template": {
         "data": {
          "bar": [
           {
            "error_x": {
             "color": "#2a3f5f"
            },
            "error_y": {
             "color": "#2a3f5f"
            },
            "marker": {
             "line": {
              "color": "#E5ECF6",
              "width": 0.5
             },
             "pattern": {
              "fillmode": "overlay",
              "size": 10,
              "solidity": 0.2
             }
            },
            "type": "bar"
           }
          ],
          "barpolar": [
           {
            "marker": {
             "line": {
              "color": "#E5ECF6",
              "width": 0.5
             },
             "pattern": {
              "fillmode": "overlay",
              "size": 10,
              "solidity": 0.2
             }
            },
            "type": "barpolar"
           }
          ],
          "carpet": [
           {
            "aaxis": {
             "endlinecolor": "#2a3f5f",
             "gridcolor": "white",
             "linecolor": "white",
             "minorgridcolor": "white",
             "startlinecolor": "#2a3f5f"
            },
            "baxis": {
             "endlinecolor": "#2a3f5f",
             "gridcolor": "white",
             "linecolor": "white",
             "minorgridcolor": "white",
             "startlinecolor": "#2a3f5f"
            },
            "type": "carpet"
           }
          ],
          "choropleth": [
           {
            "colorbar": {
             "outlinewidth": 0,
             "ticks": ""
            },
            "type": "choropleth"
           }
          ],
          "contour": [
           {
            "colorbar": {
             "outlinewidth": 0,
             "ticks": ""
            },
            "colorscale": [
             [
              0,
              "#0d0887"
             ],
             [
              0.1111111111111111,
              "#46039f"
             ],
             [
              0.2222222222222222,
              "#7201a8"
             ],
             [
              0.3333333333333333,
              "#9c179e"
             ],
             [
              0.4444444444444444,
              "#bd3786"
             ],
             [
              0.5555555555555556,
              "#d8576b"
             ],
             [
              0.6666666666666666,
              "#ed7953"
             ],
             [
              0.7777777777777778,
              "#fb9f3a"
             ],
             [
              0.8888888888888888,
              "#fdca26"
             ],
             [
              1,
              "#f0f921"
             ]
            ],
            "type": "contour"
           }
          ],
          "contourcarpet": [
           {
            "colorbar": {
             "outlinewidth": 0,
             "ticks": ""
            },
            "type": "contourcarpet"
           }
          ],
          "heatmap": [
           {
            "colorbar": {
             "outlinewidth": 0,
             "ticks": ""
            },
            "colorscale": [
             [
              0,
              "#0d0887"
             ],
             [
              0.1111111111111111,
              "#46039f"
             ],
             [
              0.2222222222222222,
              "#7201a8"
             ],
             [
              0.3333333333333333,
              "#9c179e"
             ],
             [
              0.4444444444444444,
              "#bd3786"
             ],
             [
              0.5555555555555556,
              "#d8576b"
             ],
             [
              0.6666666666666666,
              "#ed7953"
             ],
             [
              0.7777777777777778,
              "#fb9f3a"
             ],
             [
              0.8888888888888888,
              "#fdca26"
             ],
             [
              1,
              "#f0f921"
             ]
            ],
            "type": "heatmap"
           }
          ],
          "heatmapgl": [
           {
            "colorbar": {
             "outlinewidth": 0,
             "ticks": ""
            },
            "colorscale": [
             [
              0,
              "#0d0887"
             ],
             [
              0.1111111111111111,
              "#46039f"
             ],
             [
              0.2222222222222222,
              "#7201a8"
             ],
             [
              0.3333333333333333,
              "#9c179e"
             ],
             [
              0.4444444444444444,
              "#bd3786"
             ],
             [
              0.5555555555555556,
              "#d8576b"
             ],
             [
              0.6666666666666666,
              "#ed7953"
             ],
             [
              0.7777777777777778,
              "#fb9f3a"
             ],
             [
              0.8888888888888888,
              "#fdca26"
             ],
             [
              1,
              "#f0f921"
             ]
            ],
            "type": "heatmapgl"
           }
          ],
          "histogram": [
           {
            "marker": {
             "pattern": {
              "fillmode": "overlay",
              "size": 10,
              "solidity": 0.2
             }
            },
            "type": "histogram"
           }
          ],
          "histogram2d": [
           {
            "colorbar": {
             "outlinewidth": 0,
             "ticks": ""
            },
            "colorscale": [
             [
              0,
              "#0d0887"
             ],
             [
              0.1111111111111111,
              "#46039f"
             ],
             [
              0.2222222222222222,
              "#7201a8"
             ],
             [
              0.3333333333333333,
              "#9c179e"
             ],
             [
              0.4444444444444444,
              "#bd3786"
             ],
             [
              0.5555555555555556,
              "#d8576b"
             ],
             [
              0.6666666666666666,
              "#ed7953"
             ],
             [
              0.7777777777777778,
              "#fb9f3a"
             ],
             [
              0.8888888888888888,
              "#fdca26"
             ],
             [
              1,
              "#f0f921"
             ]
            ],
            "type": "histogram2d"
           }
          ],
          "histogram2dcontour": [
           {
            "colorbar": {
             "outlinewidth": 0,
             "ticks": ""
            },
            "colorscale": [
             [
              0,
              "#0d0887"
             ],
             [
              0.1111111111111111,
              "#46039f"
             ],
             [
              0.2222222222222222,
              "#7201a8"
             ],
             [
              0.3333333333333333,
              "#9c179e"
             ],
             [
              0.4444444444444444,
              "#bd3786"
             ],
             [
              0.5555555555555556,
              "#d8576b"
             ],
             [
              0.6666666666666666,
              "#ed7953"
             ],
             [
              0.7777777777777778,
              "#fb9f3a"
             ],
             [
              0.8888888888888888,
              "#fdca26"
             ],
             [
              1,
              "#f0f921"
             ]
            ],
            "type": "histogram2dcontour"
           }
          ],
          "mesh3d": [
           {
            "colorbar": {
             "outlinewidth": 0,
             "ticks": ""
            },
            "type": "mesh3d"
           }
          ],
          "parcoords": [
           {
            "line": {
             "colorbar": {
              "outlinewidth": 0,
              "ticks": ""
             }
            },
            "type": "parcoords"
           }
          ],
          "pie": [
           {
            "automargin": true,
            "type": "pie"
           }
          ],
          "scatter": [
           {
            "marker": {
             "colorbar": {
              "outlinewidth": 0,
              "ticks": ""
             }
            },
            "type": "scatter"
           }
          ],
          "scatter3d": [
           {
            "line": {
             "colorbar": {
              "outlinewidth": 0,
              "ticks": ""
             }
            },
            "marker": {
             "colorbar": {
              "outlinewidth": 0,
              "ticks": ""
             }
            },
            "type": "scatter3d"
           }
          ],
          "scattercarpet": [
           {
            "marker": {
             "colorbar": {
              "outlinewidth": 0,
              "ticks": ""
             }
            },
            "type": "scattercarpet"
           }
          ],
          "scattergeo": [
           {
            "marker": {
             "colorbar": {
              "outlinewidth": 0,
              "ticks": ""
             }
            },
            "type": "scattergeo"
           }
          ],
          "scattergl": [
           {
            "marker": {
             "colorbar": {
              "outlinewidth": 0,
              "ticks": ""
             }
            },
            "type": "scattergl"
           }
          ],
          "scattermapbox": [
           {
            "marker": {
             "colorbar": {
              "outlinewidth": 0,
              "ticks": ""
             }
            },
            "type": "scattermapbox"
           }
          ],
          "scatterpolar": [
           {
            "marker": {
             "colorbar": {
              "outlinewidth": 0,
              "ticks": ""
             }
            },
            "type": "scatterpolar"
           }
          ],
          "scatterpolargl": [
           {
            "marker": {
             "colorbar": {
              "outlinewidth": 0,
              "ticks": ""
             }
            },
            "type": "scatterpolargl"
           }
          ],
          "scatterternary": [
           {
            "marker": {
             "colorbar": {
              "outlinewidth": 0,
              "ticks": ""
             }
            },
            "type": "scatterternary"
           }
          ],
          "surface": [
           {
            "colorbar": {
             "outlinewidth": 0,
             "ticks": ""
            },
            "colorscale": [
             [
              0,
              "#0d0887"
             ],
             [
              0.1111111111111111,
              "#46039f"
             ],
             [
              0.2222222222222222,
              "#7201a8"
             ],
             [
              0.3333333333333333,
              "#9c179e"
             ],
             [
              0.4444444444444444,
              "#bd3786"
             ],
             [
              0.5555555555555556,
              "#d8576b"
             ],
             [
              0.6666666666666666,
              "#ed7953"
             ],
             [
              0.7777777777777778,
              "#fb9f3a"
             ],
             [
              0.8888888888888888,
              "#fdca26"
             ],
             [
              1,
              "#f0f921"
             ]
            ],
            "type": "surface"
           }
          ],
          "table": [
           {
            "cells": {
             "fill": {
              "color": "#EBF0F8"
             },
             "line": {
              "color": "white"
             }
            },
            "header": {
             "fill": {
              "color": "#C8D4E3"
             },
             "line": {
              "color": "white"
             }
            },
            "type": "table"
           }
          ]
         },
         "layout": {
          "annotationdefaults": {
           "arrowcolor": "#2a3f5f",
           "arrowhead": 0,
           "arrowwidth": 1
          },
          "autotypenumbers": "strict",
          "coloraxis": {
           "colorbar": {
            "outlinewidth": 0,
            "ticks": ""
           }
          },
          "colorscale": {
           "diverging": [
            [
             0,
             "#8e0152"
            ],
            [
             0.1,
             "#c51b7d"
            ],
            [
             0.2,
             "#de77ae"
            ],
            [
             0.3,
             "#f1b6da"
            ],
            [
             0.4,
             "#fde0ef"
            ],
            [
             0.5,
             "#f7f7f7"
            ],
            [
             0.6,
             "#e6f5d0"
            ],
            [
             0.7,
             "#b8e186"
            ],
            [
             0.8,
             "#7fbc41"
            ],
            [
             0.9,
             "#4d9221"
            ],
            [
             1,
             "#276419"
            ]
           ],
           "sequential": [
            [
             0,
             "#0d0887"
            ],
            [
             0.1111111111111111,
             "#46039f"
            ],
            [
             0.2222222222222222,
             "#7201a8"
            ],
            [
             0.3333333333333333,
             "#9c179e"
            ],
            [
             0.4444444444444444,
             "#bd3786"
            ],
            [
             0.5555555555555556,
             "#d8576b"
            ],
            [
             0.6666666666666666,
             "#ed7953"
            ],
            [
             0.7777777777777778,
             "#fb9f3a"
            ],
            [
             0.8888888888888888,
             "#fdca26"
            ],
            [
             1,
             "#f0f921"
            ]
           ],
           "sequentialminus": [
            [
             0,
             "#0d0887"
            ],
            [
             0.1111111111111111,
             "#46039f"
            ],
            [
             0.2222222222222222,
             "#7201a8"
            ],
            [
             0.3333333333333333,
             "#9c179e"
            ],
            [
             0.4444444444444444,
             "#bd3786"
            ],
            [
             0.5555555555555556,
             "#d8576b"
            ],
            [
             0.6666666666666666,
             "#ed7953"
            ],
            [
             0.7777777777777778,
             "#fb9f3a"
            ],
            [
             0.8888888888888888,
             "#fdca26"
            ],
            [
             1,
             "#f0f921"
            ]
           ]
          },
          "colorway": [
           "#636efa",
           "#EF553B",
           "#00cc96",
           "#ab63fa",
           "#FFA15A",
           "#19d3f3",
           "#FF6692",
           "#B6E880",
           "#FF97FF",
           "#FECB52"
          ],
          "font": {
           "color": "#2a3f5f"
          },
          "geo": {
           "bgcolor": "white",
           "lakecolor": "white",
           "landcolor": "#E5ECF6",
           "showlakes": true,
           "showland": true,
           "subunitcolor": "white"
          },
          "hoverlabel": {
           "align": "left"
          },
          "hovermode": "closest",
          "mapbox": {
           "style": "light"
          },
          "paper_bgcolor": "white",
          "plot_bgcolor": "#E5ECF6",
          "polar": {
           "angularaxis": {
            "gridcolor": "white",
            "linecolor": "white",
            "ticks": ""
           },
           "bgcolor": "#E5ECF6",
           "radialaxis": {
            "gridcolor": "white",
            "linecolor": "white",
            "ticks": ""
           }
          },
          "scene": {
           "xaxis": {
            "backgroundcolor": "#E5ECF6",
            "gridcolor": "white",
            "gridwidth": 2,
            "linecolor": "white",
            "showbackground": true,
            "ticks": "",
            "zerolinecolor": "white"
           },
           "yaxis": {
            "backgroundcolor": "#E5ECF6",
            "gridcolor": "white",
            "gridwidth": 2,
            "linecolor": "white",
            "showbackground": true,
            "ticks": "",
            "zerolinecolor": "white"
           },
           "zaxis": {
            "backgroundcolor": "#E5ECF6",
            "gridcolor": "white",
            "gridwidth": 2,
            "linecolor": "white",
            "showbackground": true,
            "ticks": "",
            "zerolinecolor": "white"
           }
          },
          "shapedefaults": {
           "line": {
            "color": "#2a3f5f"
           }
          },
          "ternary": {
           "aaxis": {
            "gridcolor": "white",
            "linecolor": "white",
            "ticks": ""
           },
           "baxis": {
            "gridcolor": "white",
            "linecolor": "white",
            "ticks": ""
           },
           "bgcolor": "#E5ECF6",
           "caxis": {
            "gridcolor": "white",
            "linecolor": "white",
            "ticks": ""
           }
          },
          "title": {
           "x": 0.05
          },
          "xaxis": {
           "automargin": true,
           "gridcolor": "white",
           "linecolor": "white",
           "ticks": "",
           "title": {
            "standoff": 15
           },
           "zerolinecolor": "white",
           "zerolinewidth": 2
          },
          "yaxis": {
           "automargin": true,
           "gridcolor": "white",
           "linecolor": "white",
           "ticks": "",
           "title": {
            "standoff": 15
           },
           "zerolinecolor": "white",
           "zerolinewidth": 2
          }
         }
        }
       }
      }
     },
     "metadata": {},
     "output_type": "display_data"
    },
    {
     "data": {
      "application/vnd.plotly.v1+json": {
       "config": {
        "plotlyServerURL": "https://plot.ly"
       },
       "data": [
        {
         "hovertemplate": "<b>%{hovertext}</b><br><br>Ticker=%{x}<br>Valor=%{y}<extra></extra>",
         "hovertext": [
          "BRFS3",
          "ALPA4",
          "RAIL3",
          "RCSL4",
          "PTBL3",
          "LEVE3",
          "MATD3",
          "JALL3",
          "IRBR3",
          "RANI3",
          "VULC3",
          "CMIG4",
          "ABEV3",
          "EMBR3",
          "BPAN4",
          "MRFG3",
          "KEPL3",
          "TOTS3",
          "STBP3",
          "BBSE3",
          "CURY3",
          "SLCE3",
          "SAPR11",
          "ENJU3",
          "ORVR3",
          "BMOB3",
          "PLPL3",
          "PETR3",
          "CPLE3",
          "CPLE6",
          "VLID3"
         ],
         "legendgroup": "",
         "marker": {
          "color": "#636efa",
          "symbol": "circle"
         },
         "mode": "markers",
         "name": "",
         "orientation": "v",
         "showlegend": false,
         "type": "scatter",
         "x": [
          "BRFS3",
          "ALPA4",
          "RAIL3",
          "RCSL4",
          "PTBL3",
          "LEVE3",
          "MATD3",
          "JALL3",
          "IRBR3",
          "RANI3",
          "VULC3",
          "CMIG4",
          "ABEV3",
          "EMBR3",
          "BPAN4",
          "MRFG3",
          "KEPL3",
          "TOTS3",
          "STBP3",
          "BBSE3",
          "CURY3",
          "SLCE3",
          "SAPR11",
          "ENJU3",
          "ORVR3",
          "BMOB3",
          "PLPL3",
          "PETR3",
          "CPLE3",
          "CPLE6",
          "VLID3"
         ],
         "xaxis": "x",
         "y": [
          -7,
          -6,
          -6,
          -4,
          -4,
          -4,
          -4,
          -4,
          -4,
          -4,
          -4,
          -4,
          -4,
          -4,
          -4,
          -1,
          1,
          1,
          1,
          1,
          2,
          2,
          4,
          4,
          4,
          4,
          4,
          4,
          6,
          6,
          7
         ],
         "yaxis": "y"
        },
        {
         "alignmentgroup": "True",
         "hovertemplate": "<b>%{hovertext}</b><br><br>Ticker=%{x}<extra></extra>",
         "hovertext": [
          "BRFS3",
          "ALPA4",
          "RAIL3",
          "RCSL4",
          "PTBL3",
          "LEVE3",
          "MATD3",
          "JALL3",
          "IRBR3",
          "RANI3",
          "VULC3",
          "CMIG4",
          "ABEV3",
          "EMBR3",
          "BPAN4",
          "MRFG3",
          "KEPL3",
          "TOTS3",
          "STBP3",
          "BBSE3",
          "CURY3",
          "SLCE3",
          "SAPR11",
          "ENJU3",
          "ORVR3",
          "BMOB3",
          "PLPL3",
          "PETR3",
          "CPLE3",
          "CPLE6",
          "VLID3"
         ],
         "legendgroup": "",
         "marker": {
          "color": "#636efa",
          "symbol": "circle"
         },
         "name": "",
         "notched": true,
         "offsetgroup": "",
         "showlegend": false,
         "type": "box",
         "x": [
          "BRFS3",
          "ALPA4",
          "RAIL3",
          "RCSL4",
          "PTBL3",
          "LEVE3",
          "MATD3",
          "JALL3",
          "IRBR3",
          "RANI3",
          "VULC3",
          "CMIG4",
          "ABEV3",
          "EMBR3",
          "BPAN4",
          "MRFG3",
          "KEPL3",
          "TOTS3",
          "STBP3",
          "BBSE3",
          "CURY3",
          "SLCE3",
          "SAPR11",
          "ENJU3",
          "ORVR3",
          "BMOB3",
          "PLPL3",
          "PETR3",
          "CPLE3",
          "CPLE6",
          "VLID3"
         ],
         "xaxis": "x3",
         "yaxis": "y3"
        },
        {
         "alignmentgroup": "True",
         "hovertemplate": "<b>%{hovertext}</b><br><br>Valor=%{y}<extra></extra>",
         "hovertext": [
          "BRFS3",
          "ALPA4",
          "RAIL3",
          "RCSL4",
          "PTBL3",
          "LEVE3",
          "MATD3",
          "JALL3",
          "IRBR3",
          "RANI3",
          "VULC3",
          "CMIG4",
          "ABEV3",
          "EMBR3",
          "BPAN4",
          "MRFG3",
          "KEPL3",
          "TOTS3",
          "STBP3",
          "BBSE3",
          "CURY3",
          "SLCE3",
          "SAPR11",
          "ENJU3",
          "ORVR3",
          "BMOB3",
          "PLPL3",
          "PETR3",
          "CPLE3",
          "CPLE6",
          "VLID3"
         ],
         "legendgroup": "",
         "marker": {
          "color": "#636efa",
          "symbol": "circle"
         },
         "name": "",
         "offsetgroup": "",
         "scalegroup": "y",
         "showlegend": false,
         "type": "violin",
         "xaxis": "x2",
         "y": [
          -7,
          -6,
          -6,
          -4,
          -4,
          -4,
          -4,
          -4,
          -4,
          -4,
          -4,
          -4,
          -4,
          -4,
          -4,
          -1,
          1,
          1,
          1,
          1,
          2,
          2,
          4,
          4,
          4,
          4,
          4,
          4,
          6,
          6,
          7
         ],
         "yaxis": "y2"
        }
       ],
       "layout": {
        "legend": {
         "tracegroupgap": 0
        },
        "margin": {
         "t": 60
        },
        "template": {
         "data": {
          "bar": [
           {
            "error_x": {
             "color": "#2a3f5f"
            },
            "error_y": {
             "color": "#2a3f5f"
            },
            "marker": {
             "line": {
              "color": "#E5ECF6",
              "width": 0.5
             },
             "pattern": {
              "fillmode": "overlay",
              "size": 10,
              "solidity": 0.2
             }
            },
            "type": "bar"
           }
          ],
          "barpolar": [
           {
            "marker": {
             "line": {
              "color": "#E5ECF6",
              "width": 0.5
             },
             "pattern": {
              "fillmode": "overlay",
              "size": 10,
              "solidity": 0.2
             }
            },
            "type": "barpolar"
           }
          ],
          "carpet": [
           {
            "aaxis": {
             "endlinecolor": "#2a3f5f",
             "gridcolor": "white",
             "linecolor": "white",
             "minorgridcolor": "white",
             "startlinecolor": "#2a3f5f"
            },
            "baxis": {
             "endlinecolor": "#2a3f5f",
             "gridcolor": "white",
             "linecolor": "white",
             "minorgridcolor": "white",
             "startlinecolor": "#2a3f5f"
            },
            "type": "carpet"
           }
          ],
          "choropleth": [
           {
            "colorbar": {
             "outlinewidth": 0,
             "ticks": ""
            },
            "type": "choropleth"
           }
          ],
          "contour": [
           {
            "colorbar": {
             "outlinewidth": 0,
             "ticks": ""
            },
            "colorscale": [
             [
              0,
              "#0d0887"
             ],
             [
              0.1111111111111111,
              "#46039f"
             ],
             [
              0.2222222222222222,
              "#7201a8"
             ],
             [
              0.3333333333333333,
              "#9c179e"
             ],
             [
              0.4444444444444444,
              "#bd3786"
             ],
             [
              0.5555555555555556,
              "#d8576b"
             ],
             [
              0.6666666666666666,
              "#ed7953"
             ],
             [
              0.7777777777777778,
              "#fb9f3a"
             ],
             [
              0.8888888888888888,
              "#fdca26"
             ],
             [
              1,
              "#f0f921"
             ]
            ],
            "type": "contour"
           }
          ],
          "contourcarpet": [
           {
            "colorbar": {
             "outlinewidth": 0,
             "ticks": ""
            },
            "type": "contourcarpet"
           }
          ],
          "heatmap": [
           {
            "colorbar": {
             "outlinewidth": 0,
             "ticks": ""
            },
            "colorscale": [
             [
              0,
              "#0d0887"
             ],
             [
              0.1111111111111111,
              "#46039f"
             ],
             [
              0.2222222222222222,
              "#7201a8"
             ],
             [
              0.3333333333333333,
              "#9c179e"
             ],
             [
              0.4444444444444444,
              "#bd3786"
             ],
             [
              0.5555555555555556,
              "#d8576b"
             ],
             [
              0.6666666666666666,
              "#ed7953"
             ],
             [
              0.7777777777777778,
              "#fb9f3a"
             ],
             [
              0.8888888888888888,
              "#fdca26"
             ],
             [
              1,
              "#f0f921"
             ]
            ],
            "type": "heatmap"
           }
          ],
          "heatmapgl": [
           {
            "colorbar": {
             "outlinewidth": 0,
             "ticks": ""
            },
            "colorscale": [
             [
              0,
              "#0d0887"
             ],
             [
              0.1111111111111111,
              "#46039f"
             ],
             [
              0.2222222222222222,
              "#7201a8"
             ],
             [
              0.3333333333333333,
              "#9c179e"
             ],
             [
              0.4444444444444444,
              "#bd3786"
             ],
             [
              0.5555555555555556,
              "#d8576b"
             ],
             [
              0.6666666666666666,
              "#ed7953"
             ],
             [
              0.7777777777777778,
              "#fb9f3a"
             ],
             [
              0.8888888888888888,
              "#fdca26"
             ],
             [
              1,
              "#f0f921"
             ]
            ],
            "type": "heatmapgl"
           }
          ],
          "histogram": [
           {
            "marker": {
             "pattern": {
              "fillmode": "overlay",
              "size": 10,
              "solidity": 0.2
             }
            },
            "type": "histogram"
           }
          ],
          "histogram2d": [
           {
            "colorbar": {
             "outlinewidth": 0,
             "ticks": ""
            },
            "colorscale": [
             [
              0,
              "#0d0887"
             ],
             [
              0.1111111111111111,
              "#46039f"
             ],
             [
              0.2222222222222222,
              "#7201a8"
             ],
             [
              0.3333333333333333,
              "#9c179e"
             ],
             [
              0.4444444444444444,
              "#bd3786"
             ],
             [
              0.5555555555555556,
              "#d8576b"
             ],
             [
              0.6666666666666666,
              "#ed7953"
             ],
             [
              0.7777777777777778,
              "#fb9f3a"
             ],
             [
              0.8888888888888888,
              "#fdca26"
             ],
             [
              1,
              "#f0f921"
             ]
            ],
            "type": "histogram2d"
           }
          ],
          "histogram2dcontour": [
           {
            "colorbar": {
             "outlinewidth": 0,
             "ticks": ""
            },
            "colorscale": [
             [
              0,
              "#0d0887"
             ],
             [
              0.1111111111111111,
              "#46039f"
             ],
             [
              0.2222222222222222,
              "#7201a8"
             ],
             [
              0.3333333333333333,
              "#9c179e"
             ],
             [
              0.4444444444444444,
              "#bd3786"
             ],
             [
              0.5555555555555556,
              "#d8576b"
             ],
             [
              0.6666666666666666,
              "#ed7953"
             ],
             [
              0.7777777777777778,
              "#fb9f3a"
             ],
             [
              0.8888888888888888,
              "#fdca26"
             ],
             [
              1,
              "#f0f921"
             ]
            ],
            "type": "histogram2dcontour"
           }
          ],
          "mesh3d": [
           {
            "colorbar": {
             "outlinewidth": 0,
             "ticks": ""
            },
            "type": "mesh3d"
           }
          ],
          "parcoords": [
           {
            "line": {
             "colorbar": {
              "outlinewidth": 0,
              "ticks": ""
             }
            },
            "type": "parcoords"
           }
          ],
          "pie": [
           {
            "automargin": true,
            "type": "pie"
           }
          ],
          "scatter": [
           {
            "marker": {
             "colorbar": {
              "outlinewidth": 0,
              "ticks": ""
             }
            },
            "type": "scatter"
           }
          ],
          "scatter3d": [
           {
            "line": {
             "colorbar": {
              "outlinewidth": 0,
              "ticks": ""
             }
            },
            "marker": {
             "colorbar": {
              "outlinewidth": 0,
              "ticks": ""
             }
            },
            "type": "scatter3d"
           }
          ],
          "scattercarpet": [
           {
            "marker": {
             "colorbar": {
              "outlinewidth": 0,
              "ticks": ""
             }
            },
            "type": "scattercarpet"
           }
          ],
          "scattergeo": [
           {
            "marker": {
             "colorbar": {
              "outlinewidth": 0,
              "ticks": ""
             }
            },
            "type": "scattergeo"
           }
          ],
          "scattergl": [
           {
            "marker": {
             "colorbar": {
              "outlinewidth": 0,
              "ticks": ""
             }
            },
            "type": "scattergl"
           }
          ],
          "scattermapbox": [
           {
            "marker": {
             "colorbar": {
              "outlinewidth": 0,
              "ticks": ""
             }
            },
            "type": "scattermapbox"
           }
          ],
          "scatterpolar": [
           {
            "marker": {
             "colorbar": {
              "outlinewidth": 0,
              "ticks": ""
             }
            },
            "type": "scatterpolar"
           }
          ],
          "scatterpolargl": [
           {
            "marker": {
             "colorbar": {
              "outlinewidth": 0,
              "ticks": ""
             }
            },
            "type": "scatterpolargl"
           }
          ],
          "scatterternary": [
           {
            "marker": {
             "colorbar": {
              "outlinewidth": 0,
              "ticks": ""
             }
            },
            "type": "scatterternary"
           }
          ],
          "surface": [
           {
            "colorbar": {
             "outlinewidth": 0,
             "ticks": ""
            },
            "colorscale": [
             [
              0,
              "#0d0887"
             ],
             [
              0.1111111111111111,
              "#46039f"
             ],
             [
              0.2222222222222222,
              "#7201a8"
             ],
             [
              0.3333333333333333,
              "#9c179e"
             ],
             [
              0.4444444444444444,
              "#bd3786"
             ],
             [
              0.5555555555555556,
              "#d8576b"
             ],
             [
              0.6666666666666666,
              "#ed7953"
             ],
             [
              0.7777777777777778,
              "#fb9f3a"
             ],
             [
              0.8888888888888888,
              "#fdca26"
             ],
             [
              1,
              "#f0f921"
             ]
            ],
            "type": "surface"
           }
          ],
          "table": [
           {
            "cells": {
             "fill": {
              "color": "#EBF0F8"
             },
             "line": {
              "color": "white"
             }
            },
            "header": {
             "fill": {
              "color": "#C8D4E3"
             },
             "line": {
              "color": "white"
             }
            },
            "type": "table"
           }
          ]
         },
         "layout": {
          "annotationdefaults": {
           "arrowcolor": "#2a3f5f",
           "arrowhead": 0,
           "arrowwidth": 1
          },
          "autotypenumbers": "strict",
          "coloraxis": {
           "colorbar": {
            "outlinewidth": 0,
            "ticks": ""
           }
          },
          "colorscale": {
           "diverging": [
            [
             0,
             "#8e0152"
            ],
            [
             0.1,
             "#c51b7d"
            ],
            [
             0.2,
             "#de77ae"
            ],
            [
             0.3,
             "#f1b6da"
            ],
            [
             0.4,
             "#fde0ef"
            ],
            [
             0.5,
             "#f7f7f7"
            ],
            [
             0.6,
             "#e6f5d0"
            ],
            [
             0.7,
             "#b8e186"
            ],
            [
             0.8,
             "#7fbc41"
            ],
            [
             0.9,
             "#4d9221"
            ],
            [
             1,
             "#276419"
            ]
           ],
           "sequential": [
            [
             0,
             "#0d0887"
            ],
            [
             0.1111111111111111,
             "#46039f"
            ],
            [
             0.2222222222222222,
             "#7201a8"
            ],
            [
             0.3333333333333333,
             "#9c179e"
            ],
            [
             0.4444444444444444,
             "#bd3786"
            ],
            [
             0.5555555555555556,
             "#d8576b"
            ],
            [
             0.6666666666666666,
             "#ed7953"
            ],
            [
             0.7777777777777778,
             "#fb9f3a"
            ],
            [
             0.8888888888888888,
             "#fdca26"
            ],
            [
             1,
             "#f0f921"
            ]
           ],
           "sequentialminus": [
            [
             0,
             "#0d0887"
            ],
            [
             0.1111111111111111,
             "#46039f"
            ],
            [
             0.2222222222222222,
             "#7201a8"
            ],
            [
             0.3333333333333333,
             "#9c179e"
            ],
            [
             0.4444444444444444,
             "#bd3786"
            ],
            [
             0.5555555555555556,
             "#d8576b"
            ],
            [
             0.6666666666666666,
             "#ed7953"
            ],
            [
             0.7777777777777778,
             "#fb9f3a"
            ],
            [
             0.8888888888888888,
             "#fdca26"
            ],
            [
             1,
             "#f0f921"
            ]
           ]
          },
          "colorway": [
           "#636efa",
           "#EF553B",
           "#00cc96",
           "#ab63fa",
           "#FFA15A",
           "#19d3f3",
           "#FF6692",
           "#B6E880",
           "#FF97FF",
           "#FECB52"
          ],
          "font": {
           "color": "#2a3f5f"
          },
          "geo": {
           "bgcolor": "white",
           "lakecolor": "white",
           "landcolor": "#E5ECF6",
           "showlakes": true,
           "showland": true,
           "subunitcolor": "white"
          },
          "hoverlabel": {
           "align": "left"
          },
          "hovermode": "closest",
          "mapbox": {
           "style": "light"
          },
          "paper_bgcolor": "white",
          "plot_bgcolor": "#E5ECF6",
          "polar": {
           "angularaxis": {
            "gridcolor": "white",
            "linecolor": "white",
            "ticks": ""
           },
           "bgcolor": "#E5ECF6",
           "radialaxis": {
            "gridcolor": "white",
            "linecolor": "white",
            "ticks": ""
           }
          },
          "scene": {
           "xaxis": {
            "backgroundcolor": "#E5ECF6",
            "gridcolor": "white",
            "gridwidth": 2,
            "linecolor": "white",
            "showbackground": true,
            "ticks": "",
            "zerolinecolor": "white"
           },
           "yaxis": {
            "backgroundcolor": "#E5ECF6",
            "gridcolor": "white",
            "gridwidth": 2,
            "linecolor": "white",
            "showbackground": true,
            "ticks": "",
            "zerolinecolor": "white"
           },
           "zaxis": {
            "backgroundcolor": "#E5ECF6",
            "gridcolor": "white",
            "gridwidth": 2,
            "linecolor": "white",
            "showbackground": true,
            "ticks": "",
            "zerolinecolor": "white"
           }
          },
          "shapedefaults": {
           "line": {
            "color": "#2a3f5f"
           }
          },
          "ternary": {
           "aaxis": {
            "gridcolor": "white",
            "linecolor": "white",
            "ticks": ""
           },
           "baxis": {
            "gridcolor": "white",
            "linecolor": "white",
            "ticks": ""
           },
           "bgcolor": "#E5ECF6",
           "caxis": {
            "gridcolor": "white",
            "linecolor": "white",
            "ticks": ""
           }
          },
          "title": {
           "x": 0.05
          },
          "xaxis": {
           "automargin": true,
           "gridcolor": "white",
           "linecolor": "white",
           "ticks": "",
           "title": {
            "standoff": 15
           },
           "zerolinecolor": "white",
           "zerolinewidth": 2
          },
          "yaxis": {
           "automargin": true,
           "gridcolor": "white",
           "linecolor": "white",
           "ticks": "",
           "title": {
            "standoff": 15
           },
           "zerolinecolor": "white",
           "zerolinewidth": 2
          }
         }
        },
        "xaxis": {
         "anchor": "y",
         "domain": [
          0,
          0.8358
         ],
         "title": {
          "text": "Ticker"
         }
        },
        "xaxis2": {
         "anchor": "y2",
         "domain": [
          0.8408,
          1
         ],
         "matches": "x2",
         "showgrid": false,
         "showline": false,
         "showticklabels": false,
         "ticks": ""
        },
        "xaxis3": {
         "anchor": "y3",
         "domain": [
          0,
          0.8358
         ],
         "matches": "x",
         "showgrid": true,
         "showticklabels": false
        },
        "xaxis4": {
         "anchor": "y4",
         "domain": [
          0.8408,
          1
         ],
         "matches": "x2",
         "showgrid": false,
         "showline": false,
         "showticklabels": false,
         "ticks": ""
        },
        "yaxis": {
         "anchor": "x",
         "domain": [
          0,
          0.8316
         ],
         "title": {
          "text": "Valor"
         }
        },
        "yaxis2": {
         "anchor": "x2",
         "domain": [
          0,
          0.8316
         ],
         "matches": "y",
         "showgrid": true,
         "showticklabels": false
        },
        "yaxis3": {
         "anchor": "x3",
         "domain": [
          0.8416,
          1
         ],
         "matches": "y3",
         "showgrid": false,
         "showline": false,
         "showticklabels": false,
         "ticks": ""
        },
        "yaxis4": {
         "anchor": "x4",
         "domain": [
          0.8416,
          1
         ],
         "matches": "y3",
         "showgrid": true,
         "showline": false,
         "showticklabels": false,
         "ticks": ""
        }
       }
      }
     },
     "metadata": {},
     "output_type": "display_data"
    }
   ],
   "source": [
    "fig = px.scatter_matrix(dicionarioCarobarato)\n",
    "fig.show()\n",
    "\n",
    "fig2 = px.scatter(dicionarioCarobarato, x='Ticker', y='Valor',marginal_x='box', marginal_y='violin',  hover_name='Ticker')\n",
    "fig2.show()"
   ]
  },
  {
   "cell_type": "code",
   "execution_count": null,
   "metadata": {},
   "outputs": [],
   "source": []
  }
 ],
 "metadata": {
  "interpreter": {
   "hash": "b3ba2566441a7c06988d0923437866b63cedc61552a5af99d1f4fb67d367b25f"
  },
  "kernelspec": {
   "display_name": "Python 3.8.8 ('base')",
   "language": "python",
   "name": "python3"
  },
  "language_info": {
   "codemirror_mode": {
    "name": "ipython",
    "version": 3
   },
   "file_extension": ".py",
   "mimetype": "text/x-python",
   "name": "python",
   "nbconvert_exporter": "python",
   "pygments_lexer": "ipython3",
   "version": "3.8.8"
  },
  "orig_nbformat": 4
 },
 "nbformat": 4,
 "nbformat_minor": 2
}
