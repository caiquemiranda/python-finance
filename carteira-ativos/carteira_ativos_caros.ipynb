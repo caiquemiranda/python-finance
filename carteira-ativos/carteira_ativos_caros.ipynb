{
 "cells": [
  {
   "cell_type": "code",
   "execution_count": 27,
   "metadata": {},
   "outputs": [],
   "source": [
    "import requests\n",
    "from bs4 import BeautifulSoup\n",
    "import MetaTrader5 as mt5\n",
    "import pandas as pd\n",
    "import pandas_ta as ta\n",
    "import time\n",
    "import numpy as np\n",
    "from datetime import datetime\n",
    "import matplotlib.pyplot as plt\n",
    "from pylab import mpl, plt"
   ]
  },
  {
   "cell_type": "code",
   "execution_count": 28,
   "metadata": {},
   "outputs": [],
   "source": [
    "plt.style.use('seaborn')\n",
    "mpl.rcParams['savefig.dpi'] = 300\n",
    "mpl.rcParams['font.family'] = 'serif'"
   ]
  },
  {
   "cell_type": "code",
   "execution_count": 2,
   "metadata": {},
   "outputs": [
    {
     "data": {
      "text/plain": [
       "0       CSTB3\n",
       "1       MNSA4\n",
       "2       POPR4\n",
       "3       CSTB4\n",
       "4       CFLU4\n",
       "        ...  \n",
       "980    UBBR11\n",
       "981     UBBR3\n",
       "982     GLOB4\n",
       "983     LWSA3\n",
       "984    BBTG12\n",
       "Name: Papel, Length: 985, dtype: object"
      ]
     },
     "execution_count": 2,
     "metadata": {},
     "output_type": "execute_result"
    }
   ],
   "source": [
    "# coleta de nome do papel\n",
    "url = 'https://www.fundamentus.com.br/resultado.php'\n",
    "agent = {'User-Agent':'Mozzila/5.0'}\n",
    "resposta = requests.get(url, headers=agent)\n",
    "soup = BeautifulSoup(resposta.text, 'lxml')\n",
    "tabela = soup.find_all('table')[0]\n",
    "df = pd.read_html(str(tabela), decimal=',', thousands='.')[0]\n",
    "df['Papel']"
   ]
  },
  {
   "cell_type": "code",
   "execution_count": 12,
   "metadata": {},
   "outputs": [
    {
     "data": {
      "text/html": [
       "<div>\n",
       "<style scoped>\n",
       "    .dataframe tbody tr th:only-of-type {\n",
       "        vertical-align: middle;\n",
       "    }\n",
       "\n",
       "    .dataframe tbody tr th {\n",
       "        vertical-align: top;\n",
       "    }\n",
       "\n",
       "    .dataframe thead th {\n",
       "        text-align: right;\n",
       "    }\n",
       "</style>\n",
       "<table border=\"1\" class=\"dataframe\">\n",
       "  <thead>\n",
       "    <tr style=\"text-align: right;\">\n",
       "      <th></th>\n",
       "      <th>Papel</th>\n",
       "      <th>Cotação</th>\n",
       "      <th>P/L</th>\n",
       "      <th>P/VP</th>\n",
       "      <th>PSR</th>\n",
       "      <th>Div.Yield</th>\n",
       "      <th>P/Ativo</th>\n",
       "      <th>P/Cap.Giro</th>\n",
       "      <th>P/EBIT</th>\n",
       "      <th>P/Ativ Circ.Liq</th>\n",
       "      <th>...</th>\n",
       "      <th>EV/EBITDA</th>\n",
       "      <th>Mrg Ebit</th>\n",
       "      <th>Mrg. Líq.</th>\n",
       "      <th>Liq. Corr.</th>\n",
       "      <th>ROIC</th>\n",
       "      <th>ROE</th>\n",
       "      <th>Liq.2meses</th>\n",
       "      <th>Patrim. Líq</th>\n",
       "      <th>Dív.Brut/ Patrim.</th>\n",
       "      <th>Cresc. Rec.5a</th>\n",
       "    </tr>\n",
       "  </thead>\n",
       "  <tbody>\n",
       "    <tr>\n",
       "      <th>10</th>\n",
       "      <td>GNDI3</td>\n",
       "      <td>71.02</td>\n",
       "      <td>-3802.75</td>\n",
       "      <td>6.19</td>\n",
       "      <td>3.631</td>\n",
       "      <td>0,39%</td>\n",
       "      <td>2.522</td>\n",
       "      <td>84.49</td>\n",
       "      <td>92.34</td>\n",
       "      <td>-6.59</td>\n",
       "      <td>...</td>\n",
       "      <td>53.83</td>\n",
       "      <td>3,93%</td>\n",
       "      <td>-0,09%</td>\n",
       "      <td>1.17</td>\n",
       "      <td>3,09%</td>\n",
       "      <td>-0,16%</td>\n",
       "      <td>332320000.0</td>\n",
       "      <td>7.116080e+09</td>\n",
       "      <td>0.53</td>\n",
       "      <td>25,23%</td>\n",
       "    </tr>\n",
       "    <tr>\n",
       "      <th>11</th>\n",
       "      <td>APER3</td>\n",
       "      <td>32.29</td>\n",
       "      <td>-3074.01</td>\n",
       "      <td>1.67</td>\n",
       "      <td>3.846</td>\n",
       "      <td>0,00%</td>\n",
       "      <td>1.004</td>\n",
       "      <td>7.07</td>\n",
       "      <td>-8.38</td>\n",
       "      <td>-9.76</td>\n",
       "      <td>...</td>\n",
       "      <td>-8.95</td>\n",
       "      <td>-45,89%</td>\n",
       "      <td>-0,31%</td>\n",
       "      <td>1.92</td>\n",
       "      <td>-15,46%</td>\n",
       "      <td>-0,05%</td>\n",
       "      <td>1770850.0</td>\n",
       "      <td>2.936510e+08</td>\n",
       "      <td>0.00</td>\n",
       "      <td>6,64%</td>\n",
       "    </tr>\n",
       "    <tr>\n",
       "      <th>13</th>\n",
       "      <td>CASH3</td>\n",
       "      <td>2.88</td>\n",
       "      <td>-483.11</td>\n",
       "      <td>3.24</td>\n",
       "      <td>11.108</td>\n",
       "      <td>0,20%</td>\n",
       "      <td>2.801</td>\n",
       "      <td>3.91</td>\n",
       "      <td>-254.66</td>\n",
       "      <td>4.42</td>\n",
       "      <td>...</td>\n",
       "      <td>-290.92</td>\n",
       "      <td>-4,36%</td>\n",
       "      <td>-1,15%</td>\n",
       "      <td>21.09</td>\n",
       "      <td>-3,63%</td>\n",
       "      <td>-0,67%</td>\n",
       "      <td>162006000.0</td>\n",
       "      <td>7.138490e+08</td>\n",
       "      <td>0.00</td>\n",
       "      <td>0,00%</td>\n",
       "    </tr>\n",
       "    <tr>\n",
       "      <th>14</th>\n",
       "      <td>RCSL3</td>\n",
       "      <td>3.96</td>\n",
       "      <td>-464.08</td>\n",
       "      <td>-6.87</td>\n",
       "      <td>5.522</td>\n",
       "      <td>0,00%</td>\n",
       "      <td>4.634</td>\n",
       "      <td>68.24</td>\n",
       "      <td>328.15</td>\n",
       "      <td>-4.04</td>\n",
       "      <td>...</td>\n",
       "      <td>173.36</td>\n",
       "      <td>1,68%</td>\n",
       "      <td>-1,18%</td>\n",
       "      <td>1.15</td>\n",
       "      <td>1,50%</td>\n",
       "      <td>1,48%</td>\n",
       "      <td>21488100.0</td>\n",
       "      <td>-4.369800e+07</td>\n",
       "      <td>-0.00</td>\n",
       "      <td>667,41%</td>\n",
       "    </tr>\n",
       "    <tr>\n",
       "      <th>15</th>\n",
       "      <td>DASA3</td>\n",
       "      <td>27.79</td>\n",
       "      <td>-430.01</td>\n",
       "      <td>2.10</td>\n",
       "      <td>1.562</td>\n",
       "      <td>1,06%</td>\n",
       "      <td>0.847</td>\n",
       "      <td>19.06</td>\n",
       "      <td>98.83</td>\n",
       "      <td>-2.96</td>\n",
       "      <td>...</td>\n",
       "      <td>17.76</td>\n",
       "      <td>1,58%</td>\n",
       "      <td>-0,26%</td>\n",
       "      <td>1.17</td>\n",
       "      <td>1,04%</td>\n",
       "      <td>-0,49%</td>\n",
       "      <td>12190400.0</td>\n",
       "      <td>7.418660e+09</td>\n",
       "      <td>0.72</td>\n",
       "      <td>30,37%</td>\n",
       "    </tr>\n",
       "    <tr>\n",
       "      <th>...</th>\n",
       "      <td>...</td>\n",
       "      <td>...</td>\n",
       "      <td>...</td>\n",
       "      <td>...</td>\n",
       "      <td>...</td>\n",
       "      <td>...</td>\n",
       "      <td>...</td>\n",
       "      <td>...</td>\n",
       "      <td>...</td>\n",
       "      <td>...</td>\n",
       "      <td>...</td>\n",
       "      <td>...</td>\n",
       "      <td>...</td>\n",
       "      <td>...</td>\n",
       "      <td>...</td>\n",
       "      <td>...</td>\n",
       "      <td>...</td>\n",
       "      <td>...</td>\n",
       "      <td>...</td>\n",
       "      <td>...</td>\n",
       "      <td>...</td>\n",
       "    </tr>\n",
       "    <tr>\n",
       "      <th>973</th>\n",
       "      <td>BIDI4</td>\n",
       "      <td>7.79</td>\n",
       "      <td>375.68</td>\n",
       "      <td>2.35</td>\n",
       "      <td>0.000</td>\n",
       "      <td>0,19%</td>\n",
       "      <td>0.000</td>\n",
       "      <td>0.00</td>\n",
       "      <td>0.00</td>\n",
       "      <td>0.00</td>\n",
       "      <td>...</td>\n",
       "      <td>0.00</td>\n",
       "      <td>0,00%</td>\n",
       "      <td>0,00%</td>\n",
       "      <td>0.00</td>\n",
       "      <td>0,00%</td>\n",
       "      <td>0,63%</td>\n",
       "      <td>105105000.0</td>\n",
       "      <td>8.536610e+09</td>\n",
       "      <td>0.00</td>\n",
       "      <td>46,66%</td>\n",
       "    </tr>\n",
       "    <tr>\n",
       "      <th>974</th>\n",
       "      <td>AMER3</td>\n",
       "      <td>32.15</td>\n",
       "      <td>409.02</td>\n",
       "      <td>1.82</td>\n",
       "      <td>1.685</td>\n",
       "      <td>0,00%</td>\n",
       "      <td>0.658</td>\n",
       "      <td>2.81</td>\n",
       "      <td>44.73</td>\n",
       "      <td>-9.34</td>\n",
       "      <td>...</td>\n",
       "      <td>19.99</td>\n",
       "      <td>3,77%</td>\n",
       "      <td>0,41%</td>\n",
       "      <td>1.70</td>\n",
       "      <td>2,49%</td>\n",
       "      <td>0,45%</td>\n",
       "      <td>235160000.0</td>\n",
       "      <td>1.566340e+10</td>\n",
       "      <td>0.85</td>\n",
       "      <td>19,85%</td>\n",
       "    </tr>\n",
       "    <tr>\n",
       "      <th>976</th>\n",
       "      <td>VIIA3</td>\n",
       "      <td>4.22</td>\n",
       "      <td>674.54</td>\n",
       "      <td>1.19</td>\n",
       "      <td>0.209</td>\n",
       "      <td>0,00%</td>\n",
       "      <td>0.192</td>\n",
       "      <td>-8.75</td>\n",
       "      <td>6.49</td>\n",
       "      <td>-0.63</td>\n",
       "      <td>...</td>\n",
       "      <td>7.64</td>\n",
       "      <td>3,22%</td>\n",
       "      <td>0,03%</td>\n",
       "      <td>0.96</td>\n",
       "      <td>3,90%</td>\n",
       "      <td>0,18%</td>\n",
       "      <td>196399000.0</td>\n",
       "      <td>5.675000e+09</td>\n",
       "      <td>1.76</td>\n",
       "      <td>5,35%</td>\n",
       "    </tr>\n",
       "    <tr>\n",
       "      <th>979</th>\n",
       "      <td>SEQL3</td>\n",
       "      <td>14.98</td>\n",
       "      <td>1145.94</td>\n",
       "      <td>3.47</td>\n",
       "      <td>1.478</td>\n",
       "      <td>0,00%</td>\n",
       "      <td>1.084</td>\n",
       "      <td>19.75</td>\n",
       "      <td>118.41</td>\n",
       "      <td>-2.90</td>\n",
       "      <td>...</td>\n",
       "      <td>18.25</td>\n",
       "      <td>1,25%</td>\n",
       "      <td>0,13%</td>\n",
       "      <td>1.21</td>\n",
       "      <td>1,09%</td>\n",
       "      <td>0,30%</td>\n",
       "      <td>31566700.0</td>\n",
       "      <td>6.027330e+08</td>\n",
       "      <td>1.13</td>\n",
       "      <td>0,00%</td>\n",
       "    </tr>\n",
       "    <tr>\n",
       "      <th>983</th>\n",
       "      <td>LWSA3</td>\n",
       "      <td>9.73</td>\n",
       "      <td>13609.20</td>\n",
       "      <td>1.95</td>\n",
       "      <td>8.270</td>\n",
       "      <td>0,00%</td>\n",
       "      <td>1.367</td>\n",
       "      <td>3.40</td>\n",
       "      <td>182.28</td>\n",
       "      <td>5.56</td>\n",
       "      <td>...</td>\n",
       "      <td>37.15</td>\n",
       "      <td>4,54%</td>\n",
       "      <td>0,06%</td>\n",
       "      <td>3.82</td>\n",
       "      <td>1,33%</td>\n",
       "      <td>0,01%</td>\n",
       "      <td>130872000.0</td>\n",
       "      <td>2.950560e+09</td>\n",
       "      <td>0.04</td>\n",
       "      <td>53,23%</td>\n",
       "    </tr>\n",
       "  </tbody>\n",
       "</table>\n",
       "<p>270 rows × 21 columns</p>\n",
       "</div>"
      ],
      "text/plain": [
       "     Papel  Cotação       P/L  P/VP     PSR Div.Yield  P/Ativo  P/Cap.Giro  \\\n",
       "10   GNDI3    71.02  -3802.75  6.19   3.631     0,39%    2.522       84.49   \n",
       "11   APER3    32.29  -3074.01  1.67   3.846     0,00%    1.004        7.07   \n",
       "13   CASH3     2.88   -483.11  3.24  11.108     0,20%    2.801        3.91   \n",
       "14   RCSL3     3.96   -464.08 -6.87   5.522     0,00%    4.634       68.24   \n",
       "15   DASA3    27.79   -430.01  2.10   1.562     1,06%    0.847       19.06   \n",
       "..     ...      ...       ...   ...     ...       ...      ...         ...   \n",
       "973  BIDI4     7.79    375.68  2.35   0.000     0,19%    0.000        0.00   \n",
       "974  AMER3    32.15    409.02  1.82   1.685     0,00%    0.658        2.81   \n",
       "976  VIIA3     4.22    674.54  1.19   0.209     0,00%    0.192       -8.75   \n",
       "979  SEQL3    14.98   1145.94  3.47   1.478     0,00%    1.084       19.75   \n",
       "983  LWSA3     9.73  13609.20  1.95   8.270     0,00%    1.367        3.40   \n",
       "\n",
       "     P/EBIT  P/Ativ Circ.Liq  ...  EV/EBITDA  Mrg Ebit Mrg. Líq. Liq. Corr.  \\\n",
       "10    92.34            -6.59  ...      53.83     3,93%    -0,09%       1.17   \n",
       "11    -8.38            -9.76  ...      -8.95   -45,89%    -0,31%       1.92   \n",
       "13  -254.66             4.42  ...    -290.92    -4,36%    -1,15%      21.09   \n",
       "14   328.15            -4.04  ...     173.36     1,68%    -1,18%       1.15   \n",
       "15    98.83            -2.96  ...      17.76     1,58%    -0,26%       1.17   \n",
       "..      ...              ...  ...        ...       ...       ...        ...   \n",
       "973    0.00             0.00  ...       0.00     0,00%     0,00%       0.00   \n",
       "974   44.73            -9.34  ...      19.99     3,77%     0,41%       1.70   \n",
       "976    6.49            -0.63  ...       7.64     3,22%     0,03%       0.96   \n",
       "979  118.41            -2.90  ...      18.25     1,25%     0,13%       1.21   \n",
       "983  182.28             5.56  ...      37.15     4,54%     0,06%       3.82   \n",
       "\n",
       "        ROIC     ROE   Liq.2meses   Patrim. Líq  Dív.Brut/ Patrim.  \\\n",
       "10     3,09%  -0,16%  332320000.0  7.116080e+09               0.53   \n",
       "11   -15,46%  -0,05%    1770850.0  2.936510e+08               0.00   \n",
       "13    -3,63%  -0,67%  162006000.0  7.138490e+08               0.00   \n",
       "14     1,50%   1,48%   21488100.0 -4.369800e+07              -0.00   \n",
       "15     1,04%  -0,49%   12190400.0  7.418660e+09               0.72   \n",
       "..       ...     ...          ...           ...                ...   \n",
       "973    0,00%   0,63%  105105000.0  8.536610e+09               0.00   \n",
       "974    2,49%   0,45%  235160000.0  1.566340e+10               0.85   \n",
       "976    3,90%   0,18%  196399000.0  5.675000e+09               1.76   \n",
       "979    1,09%   0,30%   31566700.0  6.027330e+08               1.13   \n",
       "983    1,33%   0,01%  130872000.0  2.950560e+09               0.04   \n",
       "\n",
       "     Cresc. Rec.5a  \n",
       "10          25,23%  \n",
       "11           6,64%  \n",
       "13           0,00%  \n",
       "14         667,41%  \n",
       "15          30,37%  \n",
       "..             ...  \n",
       "973         46,66%  \n",
       "974         19,85%  \n",
       "976          5,35%  \n",
       "979          0,00%  \n",
       "983         53,23%  \n",
       "\n",
       "[270 rows x 21 columns]"
      ]
     },
     "execution_count": 12,
     "metadata": {},
     "output_type": "execute_result"
    }
   ],
   "source": [
    "# filtro de liquidez maior que 1mm\n",
    "liquidezMaior = df[df['Liq.2meses'] >= 1000000]\n",
    "liquidezMaior"
   ]
  },
  {
   "cell_type": "code",
   "execution_count": 13,
   "metadata": {},
   "outputs": [
    {
     "data": {
      "text/plain": [
       "10     GNDI3\n",
       "11     APER3\n",
       "13     CASH3\n",
       "14     RCSL3\n",
       "15     DASA3\n",
       "       ...  \n",
       "973    BIDI4\n",
       "974    AMER3\n",
       "976    VIIA3\n",
       "979    SEQL3\n",
       "983    LWSA3\n",
       "Name: Papel, Length: 270, dtype: object"
      ]
     },
     "execution_count": 13,
     "metadata": {},
     "output_type": "execute_result"
    }
   ],
   "source": [
    "Symbols = liquidezMaior['Papel']\n",
    "Symbols"
   ]
  },
  {
   "cell_type": "code",
   "execution_count": 14,
   "metadata": {},
   "outputs": [
    {
     "data": {
      "text/plain": [
       "['GNDI3',\n",
       " 'APER3',\n",
       " 'CASH3',\n",
       " 'RCSL3',\n",
       " 'DASA3',\n",
       " 'RCSL4',\n",
       " 'ELMD3',\n",
       " 'EMBR3',\n",
       " 'RRRP3',\n",
       " 'VLID3',\n",
       " 'OMGE3',\n",
       " 'ORVR3',\n",
       " 'OPCT3',\n",
       " 'HBSA3',\n",
       " 'ECOR3',\n",
       " 'SMFT3',\n",
       " 'WEST3',\n",
       " 'MEAL3',\n",
       " 'AMAR3',\n",
       " 'MBLY3',\n",
       " 'ENJU3',\n",
       " 'BKBR3',\n",
       " 'IRBR3',\n",
       " 'SHOW3',\n",
       " 'OIBR4',\n",
       " 'AZUL4',\n",
       " 'VIVR3',\n",
       " 'TCSA3',\n",
       " 'GOLL4',\n",
       " 'OIBR3',\n",
       " 'COGN3',\n",
       " 'PMAM3',\n",
       " 'INEP3',\n",
       " 'JFEN3',\n",
       " 'INEP4',\n",
       " 'BBRK3',\n",
       " 'PDGR3',\n",
       " 'BRIT3',\n",
       " 'ONCO3',\n",
       " 'LVTC3',\n",
       " 'BRBI11',\n",
       " 'MATD3',\n",
       " 'MODL11',\n",
       " 'TTEN3',\n",
       " 'VVEO3',\n",
       " 'PORT3',\n",
       " 'TRAD3',\n",
       " 'IFCM3',\n",
       " 'MLAS3',\n",
       " 'ARML3',\n",
       " 'GGPS3',\n",
       " 'RECV3',\n",
       " 'MEGA3',\n",
       " 'NINJ3',\n",
       " 'CLSA3',\n",
       " 'FIQE3',\n",
       " 'CBAV3',\n",
       " 'DESK3',\n",
       " 'TPIS3',\n",
       " 'LUPA3',\n",
       " 'AZEV4',\n",
       " 'BRAP3',\n",
       " 'BRAP4',\n",
       " 'USIM3',\n",
       " 'CSNA3',\n",
       " 'USIM5',\n",
       " 'BRKM3',\n",
       " 'FHER3',\n",
       " 'MRFG3',\n",
       " 'BRKM5',\n",
       " 'GGBR3',\n",
       " 'ETER3',\n",
       " 'GOAU4',\n",
       " 'CPLE3',\n",
       " 'PETR4',\n",
       " 'CPLE11',\n",
       " 'PETR3',\n",
       " 'CPLE6',\n",
       " 'PCAR3',\n",
       " 'TASA4',\n",
       " 'CESP6',\n",
       " 'DMMO3',\n",
       " 'RAPT4',\n",
       " 'GGBR4',\n",
       " 'ALLD3',\n",
       " 'POSI3',\n",
       " 'TRPL4',\n",
       " 'JHSF3',\n",
       " 'BRSR6',\n",
       " 'JBSS3',\n",
       " 'NEOE3',\n",
       " 'DEXP3',\n",
       " 'VALE3',\n",
       " 'PLPL3',\n",
       " 'TAEE4',\n",
       " 'TAEE11',\n",
       " 'SAPR3',\n",
       " 'HBOR3',\n",
       " 'CMIG4',\n",
       " 'ALUP11',\n",
       " 'ENAT3',\n",
       " 'SAPR11',\n",
       " 'LIGT3',\n",
       " 'SAPR4',\n",
       " 'BBAS3',\n",
       " 'ESPA3',\n",
       " 'LAVV3',\n",
       " 'ROMI3',\n",
       " 'UNIP3',\n",
       " 'CMIN3',\n",
       " 'VBBR3',\n",
       " 'ENBR3',\n",
       " 'UNIP6',\n",
       " 'RANI3',\n",
       " 'PTBL3',\n",
       " 'ENGI11',\n",
       " 'CEAB3',\n",
       " 'CIEL3',\n",
       " 'BMGB4',\n",
       " 'EQTL3',\n",
       " 'CYRE3',\n",
       " 'POMO4',\n",
       " 'SUZB3',\n",
       " 'CSMG3',\n",
       " 'MYPK3',\n",
       " 'MDNE3',\n",
       " 'ABCB4',\n",
       " 'WIZS3',\n",
       " 'TRIS3',\n",
       " 'DXCO3',\n",
       " 'CMIG3',\n",
       " 'LEVE3',\n",
       " 'CPFE3',\n",
       " 'VULC3',\n",
       " 'BBDC3',\n",
       " 'SANB3',\n",
       " 'SHUL4',\n",
       " 'ITSA4',\n",
       " 'ITSA3',\n",
       " 'AGRO3',\n",
       " 'MOVI3',\n",
       " 'CSAN3',\n",
       " 'CAML3',\n",
       " 'CGAS5',\n",
       " 'JSLG3',\n",
       " 'SANB11',\n",
       " 'ELET6',\n",
       " 'MOAR3',\n",
       " 'ELET3',\n",
       " 'KLBN4',\n",
       " 'LPSB3',\n",
       " 'ITUB3',\n",
       " 'SEER3',\n",
       " 'CURY3',\n",
       " 'SANB4',\n",
       " 'KLBN11',\n",
       " 'MRVE3',\n",
       " 'EZTC3',\n",
       " 'PSSA3',\n",
       " 'FRAS3',\n",
       " 'LOGG3',\n",
       " 'TGMA3',\n",
       " 'BBDC4',\n",
       " 'SLCE3',\n",
       " 'FESA4',\n",
       " 'SBSP3',\n",
       " 'ITUB4',\n",
       " 'BEEF3',\n",
       " 'CARD3',\n",
       " 'ASAI3',\n",
       " 'TEND3',\n",
       " 'CRFB3',\n",
       " 'TIMS3',\n",
       " 'SIMH3',\n",
       " 'GRND3',\n",
       " 'GFSA3',\n",
       " 'AURA33',\n",
       " 'LOGN3',\n",
       " 'SOJA3',\n",
       " 'JALL3',\n",
       " 'BPAC11',\n",
       " 'ENEV3',\n",
       " 'GUAR3',\n",
       " 'TUPY3',\n",
       " 'SMTO3',\n",
       " 'BBSE3',\n",
       " 'AESB3',\n",
       " 'QUAL3',\n",
       " 'DIRR3',\n",
       " 'EGIE3',\n",
       " 'MDIA3',\n",
       " 'PARD3',\n",
       " 'KEPL3',\n",
       " 'LCAM3',\n",
       " 'ABEV3',\n",
       " 'BRPR3',\n",
       " 'BPAN4',\n",
       " 'FLRY3',\n",
       " 'CXSE3',\n",
       " 'EVEN3',\n",
       " 'HYPE3',\n",
       " 'TECN3',\n",
       " 'BLAU3',\n",
       " 'MELK3',\n",
       " 'GMAT3',\n",
       " 'VIVT3',\n",
       " 'ODPV3',\n",
       " 'UGPA3',\n",
       " 'PRIO3',\n",
       " 'B3SA3',\n",
       " 'JPSA3',\n",
       " 'BMOB3',\n",
       " 'MTRE3',\n",
       " 'LAME4',\n",
       " 'LAME3',\n",
       " 'BOAS3',\n",
       " 'INTB3',\n",
       " 'VITT3',\n",
       " 'RENT3',\n",
       " 'VIVA3',\n",
       " 'PGMN3',\n",
       " 'AGXY3',\n",
       " 'MILS3',\n",
       " 'LJQQ3',\n",
       " 'RAIZ4',\n",
       " 'POWE3',\n",
       " 'CSED3',\n",
       " 'PNVL3',\n",
       " 'SULA11',\n",
       " 'SBFG3',\n",
       " 'TFCO4',\n",
       " 'MOSI3',\n",
       " 'ARZZ3',\n",
       " 'IGTI11',\n",
       " 'AMBP3',\n",
       " 'MULT3',\n",
       " 'CCRO3',\n",
       " 'ALPA4',\n",
       " 'NGRD3',\n",
       " 'VAMO3',\n",
       " 'ALSO3',\n",
       " 'IGTI3',\n",
       " 'STBP3',\n",
       " 'SYNE3',\n",
       " 'SOMA3',\n",
       " 'BRFS3',\n",
       " 'WEGE3',\n",
       " 'BRML3',\n",
       " 'LREN3',\n",
       " 'RADL3',\n",
       " 'CVCB3',\n",
       " 'AALR3',\n",
       " 'TOTS3',\n",
       " 'YDUQ3',\n",
       " 'RAIL3',\n",
       " 'NTCO3',\n",
       " 'MGLU3',\n",
       " 'RDOR3',\n",
       " 'AERI3',\n",
       " 'ANIM3',\n",
       " 'PETZ3',\n",
       " 'HAPV3',\n",
       " 'SQIA3',\n",
       " 'BIDI3',\n",
       " 'BIDI11',\n",
       " 'BIDI4',\n",
       " 'AMER3',\n",
       " 'VIIA3',\n",
       " 'SEQL3',\n",
       " 'LWSA3']"
      ]
     },
     "execution_count": 14,
     "metadata": {},
     "output_type": "execute_result"
    }
   ],
   "source": [
    "ativos = [tick for tick in Symbols]\n",
    "ativos"
   ]
  },
  {
   "cell_type": "code",
   "execution_count": 15,
   "metadata": {},
   "outputs": [],
   "source": [
    "def get_ohlc(ativo, timeframe, n=5):\n",
    "    ativo = mt5.copy_rates_from_pos(ativo, timeframe, 0, n)\n",
    "    ativo = pd.DataFrame(ativo)\n",
    "    ativo['time'] = pd.to_datetime(ativo['time'], unit='s')\n",
    "    ativo.set_index('time', inplace=True)\n",
    "    return ativo"
   ]
  },
  {
   "cell_type": "code",
   "execution_count": 16,
   "metadata": {},
   "outputs": [],
   "source": [
    "# calculo percentil para determinar intervalo de confiança\n",
    "\n",
    "def percentil(data, up=90, down=10):\n",
    "    x = data\n",
    "    x = x.dropna()\n",
    "    array_x = np.array(x)\n",
    "    percentil_up = np.percentile(array_x, up)\n",
    "    percentil_down = np.percentile(array_x, down)\n",
    "    \n",
    "    return [percentil_up, percentil_down]"
   ]
  },
  {
   "cell_type": "code",
   "execution_count": 17,
   "metadata": {},
   "outputs": [],
   "source": [
    "def caroBarato(tick_ativo, up, down, dias):\n",
    "    # coleta de dados\n",
    "    if not mt5.initialize():\n",
    "        print('initialize() falhou')\n",
    "        mt5.shutdown()\n",
    "\n",
    "    df = get_ohlc(tick_ativo, mt5.TIMEFRAME_D1, dias)\n",
    "\n",
    "    # criação médias\n",
    "    df['M20'] = ta.sma(df['close'], length=20)\n",
    "    df['M50'] = ta.sma(df['close'], length=50)\n",
    "    df['M200'] = ta.sma(df['close'], length=200)\n",
    "\n",
    "    #criação distancia média\n",
    "    df['Dist20'] = df['close'] - df['M20'] \n",
    "    df['Dist50'] = df['close'] - df['M50']\n",
    "    df['Dist200'] = df['close'] - df['M200']\n",
    "    \n",
    "    # filtro\n",
    "    df = df[df['real_volume'] > 0]\n",
    "\n",
    "    # calculo percentil das distancia da média \n",
    "    # return percentil_up, percentil_down\n",
    "    per_m20 = percentil(df['Dist20'], up, down)\n",
    "    per_m50 = percentil(df['Dist50'], up, down)\n",
    "    per_m200 = percentil(df['Dist200'], up, down)\n",
    "\n",
    "    # transformação em um array\n",
    "    \n",
    "    # variavel temporaria\n",
    "    valor = 0\n",
    "\n",
    "    # logica\n",
    "    # logica valor = +1 +2 +4 or -1 -2 -4 para diferenciar qual média aponta distancia\n",
    "    if df['Dist20'][-1] > per_m20[0]:\n",
    "        valor += 1\n",
    "    \n",
    "    if df['Dist50'][-1] > per_m50[0]:\n",
    "        valor += 2\n",
    "    \n",
    "    if df['Dist200'][-1] > per_m200[0]:\n",
    "        valor += 4\n",
    "    \n",
    "    if df['Dist20'][-1] < per_m20[1]:\n",
    "        valor -= 1\n",
    "    \n",
    "    if df['Dist50'][-1] < per_m50[1]:\n",
    "        valor -= 2\n",
    "    \n",
    "    if df['Dist200'][-1] < per_m200[1]:\n",
    "        valor -= 4\n",
    "\n",
    "    return valor"
   ]
  },
  {
   "cell_type": "code",
   "execution_count": 18,
   "metadata": {},
   "outputs": [
    {
     "data": {
      "text/plain": [
       "4"
      ]
     },
     "execution_count": 18,
     "metadata": {},
     "output_type": "execute_result"
    }
   ],
   "source": [
    "caroBarato('PETR4', 95, 5, 500)"
   ]
  },
  {
   "cell_type": "code",
   "execution_count": 22,
   "metadata": {},
   "outputs": [
    {
     "name": "stdout",
     "output_type": "stream",
     "text": [
      "COLETA DE GNDI3\n",
      "COLETA DE APER3\n",
      "COLETA DE CASH3\n",
      "COLETA DE RCSL3\n",
      "COLETA DE DASA3\n",
      "COLETA DE RCSL4\n",
      "COLETA DE ELMD3\n",
      "COLETA DE EMBR3\n",
      "COLETA DE RRRP3\n",
      "COLETA DE VLID3\n",
      "OMGE3 SEM COLETA\n",
      "COLETA DE ORVR3\n",
      "COLETA DE OPCT3\n",
      "COLETA DE HBSA3\n",
      "COLETA DE ECOR3\n",
      "SMFT3 SEM COLETA\n",
      "COLETA DE WEST3\n",
      "COLETA DE MEAL3\n",
      "COLETA DE AMAR3\n",
      "COLETA DE MBLY3\n",
      "COLETA DE ENJU3\n",
      "COLETA DE BKBR3\n",
      "COLETA DE IRBR3\n",
      "COLETA DE SHOW3\n",
      "COLETA DE OIBR4\n",
      "COLETA DE AZUL4\n",
      "COLETA DE VIVR3\n",
      "COLETA DE TCSA3\n",
      "COLETA DE GOLL4\n",
      "COLETA DE OIBR3\n",
      "COLETA DE COGN3\n",
      "COLETA DE PMAM3\n",
      "COLETA DE INEP3\n",
      "COLETA DE JFEN3\n",
      "COLETA DE INEP4\n",
      "COLETA DE BBRK3\n",
      "COLETA DE PDGR3\n",
      "BRIT3 SEM COLETA\n",
      "ONCO3 SEM COLETA\n",
      "LVTC3 SEM COLETA\n",
      "BRBI11 SEM COLETA\n",
      "COLETA DE MATD3\n",
      "MODL11 SEM COLETA\n",
      "TTEN3 SEM COLETA\n",
      "VVEO3 SEM COLETA\n",
      "PORT3 SEM COLETA\n",
      "TRAD3 SEM COLETA\n",
      "IFCM3 SEM COLETA\n",
      "MLAS3 SEM COLETA\n",
      "ARML3 SEM COLETA\n",
      "GGPS3 SEM COLETA\n",
      "RECV3 SEM COLETA\n",
      "MEGA3 SEM COLETA\n",
      "NINJ3 SEM COLETA\n",
      "CLSA3 SEM COLETA\n",
      "FIQE3 SEM COLETA\n",
      "CBAV3 SEM COLETA\n",
      "DESK3 SEM COLETA\n",
      "COLETA DE TPIS3\n",
      "COLETA DE LUPA3\n",
      "COLETA DE AZEV4\n",
      "COLETA DE BRAP3\n",
      "COLETA DE BRAP4\n",
      "COLETA DE USIM3\n",
      "COLETA DE CSNA3\n",
      "COLETA DE USIM5\n",
      "COLETA DE BRKM3\n",
      "COLETA DE FHER3\n",
      "COLETA DE MRFG3\n",
      "COLETA DE BRKM5\n",
      "COLETA DE GGBR3\n",
      "COLETA DE ETER3\n",
      "COLETA DE GOAU4\n",
      "COLETA DE CPLE3\n",
      "COLETA DE PETR4\n",
      "CPLE11 SEM COLETA\n",
      "COLETA DE PETR3\n",
      "COLETA DE CPLE6\n",
      "COLETA DE PCAR3\n",
      "COLETA DE TASA4\n",
      "COLETA DE CESP6\n",
      "COLETA DE DMMO3\n",
      "COLETA DE RAPT4\n",
      "COLETA DE GGBR4\n",
      "COLETA DE ALLD3\n",
      "COLETA DE POSI3\n",
      "COLETA DE TRPL4\n",
      "COLETA DE JHSF3\n",
      "COLETA DE BRSR6\n",
      "COLETA DE JBSS3\n",
      "COLETA DE NEOE3\n",
      "COLETA DE DEXP3\n",
      "COLETA DE VALE3\n",
      "COLETA DE PLPL3\n",
      "COLETA DE TAEE4\n",
      "COLETA DE TAEE11\n",
      "COLETA DE SAPR3\n",
      "COLETA DE HBOR3\n",
      "COLETA DE CMIG4\n",
      "COLETA DE ALUP11\n",
      "COLETA DE ENAT3\n",
      "COLETA DE SAPR11\n",
      "COLETA DE LIGT3\n",
      "COLETA DE SAPR4\n",
      "COLETA DE BBAS3\n",
      "COLETA DE ESPA3\n",
      "COLETA DE LAVV3\n",
      "COLETA DE ROMI3\n",
      "COLETA DE UNIP3\n",
      "COLETA DE CMIN3\n",
      "COLETA DE VBBR3\n",
      "COLETA DE ENBR3\n",
      "COLETA DE UNIP6\n",
      "COLETA DE RANI3\n",
      "COLETA DE PTBL3\n",
      "COLETA DE ENGI11\n",
      "COLETA DE CEAB3\n",
      "COLETA DE CIEL3\n",
      "COLETA DE BMGB4\n",
      "COLETA DE EQTL3\n",
      "COLETA DE CYRE3\n",
      "COLETA DE POMO4\n",
      "COLETA DE SUZB3\n",
      "COLETA DE CSMG3\n",
      "COLETA DE MYPK3\n",
      "COLETA DE MDNE3\n",
      "COLETA DE ABCB4\n",
      "COLETA DE WIZS3\n",
      "COLETA DE TRIS3\n",
      "COLETA DE DXCO3\n",
      "COLETA DE CMIG3\n",
      "COLETA DE LEVE3\n",
      "COLETA DE CPFE3\n",
      "COLETA DE VULC3\n",
      "COLETA DE BBDC3\n",
      "COLETA DE SANB3\n",
      "COLETA DE SHUL4\n",
      "COLETA DE ITSA4\n",
      "COLETA DE ITSA3\n",
      "COLETA DE AGRO3\n",
      "COLETA DE MOVI3\n",
      "COLETA DE CSAN3\n",
      "COLETA DE CAML3\n",
      "COLETA DE CGAS5\n",
      "COLETA DE JSLG3\n",
      "COLETA DE SANB11\n",
      "COLETA DE ELET6\n",
      "COLETA DE MOAR3\n",
      "COLETA DE ELET3\n",
      "COLETA DE KLBN4\n",
      "COLETA DE LPSB3\n",
      "COLETA DE ITUB3\n",
      "COLETA DE SEER3\n",
      "COLETA DE CURY3\n",
      "COLETA DE SANB4\n",
      "COLETA DE KLBN11\n",
      "COLETA DE MRVE3\n",
      "COLETA DE EZTC3\n",
      "COLETA DE PSSA3\n",
      "COLETA DE FRAS3\n",
      "COLETA DE LOGG3\n",
      "COLETA DE TGMA3\n",
      "COLETA DE BBDC4\n",
      "COLETA DE SLCE3\n",
      "COLETA DE FESA4\n",
      "COLETA DE SBSP3\n",
      "COLETA DE ITUB4\n",
      "COLETA DE BEEF3\n",
      "COLETA DE CARD3\n",
      "COLETA DE ASAI3\n",
      "COLETA DE TEND3\n",
      "COLETA DE CRFB3\n",
      "COLETA DE TIMS3\n",
      "COLETA DE SIMH3\n",
      "COLETA DE GRND3\n",
      "COLETA DE GFSA3\n",
      "COLETA DE AURA33\n",
      "COLETA DE LOGN3\n",
      "SOJA3 SEM COLETA\n",
      "COLETA DE JALL3\n",
      "COLETA DE BPAC11\n",
      "COLETA DE ENEV3\n",
      "COLETA DE GUAR3\n",
      "COLETA DE TUPY3\n",
      "COLETA DE SMTO3\n",
      "COLETA DE BBSE3\n",
      "COLETA DE AESB3\n",
      "COLETA DE QUAL3\n",
      "COLETA DE DIRR3\n",
      "COLETA DE EGIE3\n",
      "COLETA DE MDIA3\n",
      "COLETA DE PARD3\n",
      "COLETA DE KEPL3\n",
      "COLETA DE LCAM3\n",
      "COLETA DE ABEV3\n",
      "COLETA DE BRPR3\n",
      "COLETA DE BPAN4\n",
      "COLETA DE FLRY3\n",
      "CXSE3 SEM COLETA\n",
      "COLETA DE EVEN3\n",
      "COLETA DE HYPE3\n",
      "COLETA DE TECN3\n",
      "COLETA DE BLAU3\n",
      "COLETA DE MELK3\n",
      "COLETA DE GMAT3\n",
      "COLETA DE VIVT3\n",
      "COLETA DE ODPV3\n",
      "COLETA DE UGPA3\n",
      "COLETA DE PRIO3\n",
      "COLETA DE B3SA3\n",
      "JPSA3 SEM COLETA\n",
      "COLETA DE BMOB3\n",
      "COLETA DE MTRE3\n",
      "LAME4 SEM COLETA\n",
      "LAME3 SEM COLETA\n",
      "COLETA DE BOAS3\n",
      "COLETA DE INTB3\n",
      "VITT3 SEM COLETA\n",
      "COLETA DE RENT3\n",
      "COLETA DE VIVA3\n",
      "COLETA DE PGMN3\n",
      "AGXY3 SEM COLETA\n",
      "COLETA DE MILS3\n",
      "COLETA DE LJQQ3\n",
      "RAIZ4 SEM COLETA\n",
      "COLETA DE POWE3\n",
      "COLETA DE CSED3\n",
      "COLETA DE PNVL3\n",
      "COLETA DE SULA11\n",
      "COLETA DE SBFG3\n",
      "TFCO4 SEM COLETA\n",
      "COLETA DE MOSI3\n",
      "COLETA DE ARZZ3\n",
      "IGTI11 SEM COLETA\n",
      "COLETA DE AMBP3\n",
      "COLETA DE MULT3\n",
      "COLETA DE CCRO3\n",
      "COLETA DE ALPA4\n",
      "COLETA DE NGRD3\n",
      "COLETA DE VAMO3\n",
      "COLETA DE ALSO3\n",
      "IGTI3 SEM COLETA\n",
      "COLETA DE STBP3\n",
      "SYNE3 SEM COLETA\n",
      "COLETA DE SOMA3\n",
      "COLETA DE BRFS3\n",
      "COLETA DE WEGE3\n",
      "COLETA DE BRML3\n",
      "COLETA DE LREN3\n",
      "COLETA DE RADL3\n",
      "COLETA DE CVCB3\n",
      "COLETA DE AALR3\n",
      "COLETA DE TOTS3\n",
      "COLETA DE YDUQ3\n",
      "COLETA DE RAIL3\n",
      "COLETA DE NTCO3\n",
      "COLETA DE MGLU3\n",
      "COLETA DE RDOR3\n",
      "COLETA DE AERI3\n",
      "COLETA DE ANIM3\n",
      "COLETA DE PETZ3\n",
      "COLETA DE HAPV3\n",
      "COLETA DE SQIA3\n",
      "COLETA DE BIDI3\n",
      "COLETA DE BIDI11\n",
      "COLETA DE BIDI4\n",
      "COLETA DE AMER3\n",
      "COLETA DE VIIA3\n",
      "COLETA DE SEQL3\n",
      "COLETA DE LWSA3\n"
     ]
    }
   ],
   "source": [
    "dicionarioCarobarato = {}\n",
    "for ativo in ativos:\n",
    "    try:\n",
    "        dicionarioCarobarato[ativo] = caroBarato(ativo, 95, 5, 500)\n",
    "        print(f'COLETA DE {ativo}')\n",
    "    except:\n",
    "        print(f'{ativo} SEM COLETA')\n",
    "        #dicionarioCarobarato[ativo] = 'NAN'\n",
    "dicionarioCarobarato = pd.DataFrame.from_dict(dicionarioCarobarato, orient='index').reset_index()"
   ]
  },
  {
   "cell_type": "code",
   "execution_count": 23,
   "metadata": {},
   "outputs": [
    {
     "data": {
      "text/html": [
       "<div>\n",
       "<style scoped>\n",
       "    .dataframe tbody tr th:only-of-type {\n",
       "        vertical-align: middle;\n",
       "    }\n",
       "\n",
       "    .dataframe tbody tr th {\n",
       "        vertical-align: top;\n",
       "    }\n",
       "\n",
       "    .dataframe thead th {\n",
       "        text-align: right;\n",
       "    }\n",
       "</style>\n",
       "<table border=\"1\" class=\"dataframe\">\n",
       "  <thead>\n",
       "    <tr style=\"text-align: right;\">\n",
       "      <th></th>\n",
       "      <th>Ticker</th>\n",
       "      <th>Valor</th>\n",
       "    </tr>\n",
       "  </thead>\n",
       "  <tbody>\n",
       "    <tr>\n",
       "      <th>0</th>\n",
       "      <td>GNDI3</td>\n",
       "      <td>0</td>\n",
       "    </tr>\n",
       "    <tr>\n",
       "      <th>1</th>\n",
       "      <td>APER3</td>\n",
       "      <td>0</td>\n",
       "    </tr>\n",
       "    <tr>\n",
       "      <th>2</th>\n",
       "      <td>CASH3</td>\n",
       "      <td>0</td>\n",
       "    </tr>\n",
       "    <tr>\n",
       "      <th>3</th>\n",
       "      <td>RCSL3</td>\n",
       "      <td>0</td>\n",
       "    </tr>\n",
       "    <tr>\n",
       "      <th>4</th>\n",
       "      <td>DASA3</td>\n",
       "      <td>0</td>\n",
       "    </tr>\n",
       "    <tr>\n",
       "      <th>...</th>\n",
       "      <td>...</td>\n",
       "      <td>...</td>\n",
       "    </tr>\n",
       "    <tr>\n",
       "      <th>230</th>\n",
       "      <td>BIDI4</td>\n",
       "      <td>0</td>\n",
       "    </tr>\n",
       "    <tr>\n",
       "      <th>231</th>\n",
       "      <td>AMER3</td>\n",
       "      <td>0</td>\n",
       "    </tr>\n",
       "    <tr>\n",
       "      <th>232</th>\n",
       "      <td>VIIA3</td>\n",
       "      <td>0</td>\n",
       "    </tr>\n",
       "    <tr>\n",
       "      <th>233</th>\n",
       "      <td>SEQL3</td>\n",
       "      <td>0</td>\n",
       "    </tr>\n",
       "    <tr>\n",
       "      <th>234</th>\n",
       "      <td>LWSA3</td>\n",
       "      <td>0</td>\n",
       "    </tr>\n",
       "  </tbody>\n",
       "</table>\n",
       "<p>235 rows × 2 columns</p>\n",
       "</div>"
      ],
      "text/plain": [
       "    Ticker  Valor\n",
       "0    GNDI3      0\n",
       "1    APER3      0\n",
       "2    CASH3      0\n",
       "3    RCSL3      0\n",
       "4    DASA3      0\n",
       "..     ...    ...\n",
       "230  BIDI4      0\n",
       "231  AMER3      0\n",
       "232  VIIA3      0\n",
       "233  SEQL3      0\n",
       "234  LWSA3      0\n",
       "\n",
       "[235 rows x 2 columns]"
      ]
     },
     "execution_count": 23,
     "metadata": {},
     "output_type": "execute_result"
    }
   ],
   "source": [
    "dicionarioCarobarato.columns = [\"Ticker\", \"Valor\"]\n",
    "dicionarioCarobarato"
   ]
  },
  {
   "cell_type": "code",
   "execution_count": 24,
   "metadata": {},
   "outputs": [
    {
     "data": {
      "text/html": [
       "<div>\n",
       "<style scoped>\n",
       "    .dataframe tbody tr th:only-of-type {\n",
       "        vertical-align: middle;\n",
       "    }\n",
       "\n",
       "    .dataframe tbody tr th {\n",
       "        vertical-align: top;\n",
       "    }\n",
       "\n",
       "    .dataframe thead th {\n",
       "        text-align: right;\n",
       "    }\n",
       "</style>\n",
       "<table border=\"1\" class=\"dataframe\">\n",
       "  <thead>\n",
       "    <tr style=\"text-align: right;\">\n",
       "      <th></th>\n",
       "      <th>Ticker</th>\n",
       "      <th>Valor</th>\n",
       "    </tr>\n",
       "  </thead>\n",
       "  <tbody>\n",
       "    <tr>\n",
       "      <th>188</th>\n",
       "      <td>INTB3</td>\n",
       "      <td>5</td>\n",
       "    </tr>\n",
       "    <tr>\n",
       "      <th>51</th>\n",
       "      <td>CPLE3</td>\n",
       "      <td>6</td>\n",
       "    </tr>\n",
       "    <tr>\n",
       "      <th>54</th>\n",
       "      <td>CPLE6</td>\n",
       "      <td>6</td>\n",
       "    </tr>\n",
       "    <tr>\n",
       "      <th>58</th>\n",
       "      <td>DMMO3</td>\n",
       "      <td>6</td>\n",
       "    </tr>\n",
       "    <tr>\n",
       "      <th>9</th>\n",
       "      <td>VLID3</td>\n",
       "      <td>7</td>\n",
       "    </tr>\n",
       "    <tr>\n",
       "      <th>17</th>\n",
       "      <td>MBLY3</td>\n",
       "      <td>7</td>\n",
       "    </tr>\n",
       "  </tbody>\n",
       "</table>\n",
       "</div>"
      ],
      "text/plain": [
       "    Ticker  Valor\n",
       "188  INTB3      5\n",
       "51   CPLE3      6\n",
       "54   CPLE6      6\n",
       "58   DMMO3      6\n",
       "9    VLID3      7\n",
       "17   MBLY3      7"
      ]
     },
     "execution_count": 24,
     "metadata": {},
     "output_type": "execute_result"
    }
   ],
   "source": [
    "ativos_caros = dicionarioCarobarato[dicionarioCarobarato['Valor'] > 4]\n",
    "ativos_caros.sort_values(by='Valor')"
   ]
  },
  {
   "cell_type": "code",
   "execution_count": 25,
   "metadata": {},
   "outputs": [
    {
     "data": {
      "text/html": [
       "<div>\n",
       "<style scoped>\n",
       "    .dataframe tbody tr th:only-of-type {\n",
       "        vertical-align: middle;\n",
       "    }\n",
       "\n",
       "    .dataframe tbody tr th {\n",
       "        vertical-align: top;\n",
       "    }\n",
       "\n",
       "    .dataframe thead th {\n",
       "        text-align: right;\n",
       "    }\n",
       "</style>\n",
       "<table border=\"1\" class=\"dataframe\">\n",
       "  <thead>\n",
       "    <tr style=\"text-align: right;\">\n",
       "      <th></th>\n",
       "      <th>Ticker</th>\n",
       "      <th>Valor</th>\n",
       "    </tr>\n",
       "  </thead>\n",
       "  <tbody>\n",
       "    <tr>\n",
       "      <th>120</th>\n",
       "      <td>CGAS5</td>\n",
       "      <td>-7</td>\n",
       "    </tr>\n",
       "    <tr>\n",
       "      <th>210</th>\n",
       "      <td>BRFS3</td>\n",
       "      <td>-7</td>\n",
       "    </tr>\n",
       "    <tr>\n",
       "      <th>204</th>\n",
       "      <td>ALPA4</td>\n",
       "      <td>-6</td>\n",
       "    </tr>\n",
       "  </tbody>\n",
       "</table>\n",
       "</div>"
      ],
      "text/plain": [
       "    Ticker  Valor\n",
       "120  CGAS5     -7\n",
       "210  BRFS3     -7\n",
       "204  ALPA4     -6"
      ]
     },
     "execution_count": 25,
     "metadata": {},
     "output_type": "execute_result"
    }
   ],
   "source": [
    "ativos_baratos = dicionarioCarobarato[dicionarioCarobarato['Valor'] < -4]\n",
    "ativos_baratos.sort_values(by='Valor')"
   ]
  },
  {
   "cell_type": "code",
   "execution_count": null,
   "metadata": {},
   "outputs": [],
   "source": [
    "# colocar filtro de liquidez\n",
    "# colocar coleta yahoo finace\n",
    "# colocar Scatterplot "
   ]
  },
  {
   "cell_type": "code",
   "execution_count": 31,
   "metadata": {},
   "outputs": [],
   "source": [
    "# filtro diferente de 0\n",
    "dicionarioCarobarato = dicionarioCarobarato[dicionarioCarobarato['Valor'] != 0]"
   ]
  },
  {
   "cell_type": "code",
   "execution_count": 44,
   "metadata": {},
   "outputs": [],
   "source": [
    "dicionarioCarobarato = dicionarioCarobarato.sort_values(by='Valor')"
   ]
  },
  {
   "cell_type": "code",
   "execution_count": 47,
   "metadata": {},
   "outputs": [
    {
     "data": {
      "application/vnd.plotly.v1+json": {
       "config": {
        "plotlyServerURL": "https://plot.ly"
       },
       "data": [
        {
         "hovertemplate": "<b>%{hovertext}</b><br><br>Ticker=%{x}<br>Valor=%{y}<extra></extra>",
         "hovertext": [
          "BRFS3",
          "CGAS5",
          "ALPA4",
          "EMBR3",
          "RANI3",
          "PTBL3",
          "LEVE3",
          "VULC3",
          "FHER3",
          "CMIG4",
          "AZEV4",
          "MATD3",
          "PMAM3",
          "ABEV3",
          "BPAN4",
          "RAIL3",
          "MRFG3",
          "BBSE3",
          "STBP3",
          "KEPL3",
          "SQIA3",
          "BRAP3",
          "CURY3",
          "SLCE3",
          "ORVR3",
          "OPCT3",
          "BMOB3",
          "MELK3",
          "ENJU3",
          "SAPR3",
          "SAPR4",
          "PETR4",
          "PETR3",
          "PLPL3",
          "SAPR11",
          "INTB3",
          "CPLE6",
          "DMMO3",
          "CPLE3",
          "MBLY3",
          "VLID3"
         ],
         "legendgroup": "",
         "marker": {
          "color": "#636efa",
          "symbol": "circle"
         },
         "mode": "markers",
         "name": "",
         "orientation": "v",
         "showlegend": false,
         "type": "scatter",
         "x": [
          "BRFS3",
          "CGAS5",
          "ALPA4",
          "EMBR3",
          "RANI3",
          "PTBL3",
          "LEVE3",
          "VULC3",
          "FHER3",
          "CMIG4",
          "AZEV4",
          "MATD3",
          "PMAM3",
          "ABEV3",
          "BPAN4",
          "RAIL3",
          "MRFG3",
          "BBSE3",
          "STBP3",
          "KEPL3",
          "SQIA3",
          "BRAP3",
          "CURY3",
          "SLCE3",
          "ORVR3",
          "OPCT3",
          "BMOB3",
          "MELK3",
          "ENJU3",
          "SAPR3",
          "SAPR4",
          "PETR4",
          "PETR3",
          "PLPL3",
          "SAPR11",
          "INTB3",
          "CPLE6",
          "DMMO3",
          "CPLE3",
          "MBLY3",
          "VLID3"
         ],
         "xaxis": "x",
         "y": [
          -7,
          -7,
          -6,
          -4,
          -4,
          -4,
          -4,
          -4,
          -4,
          -4,
          -4,
          -4,
          -4,
          -4,
          -4,
          -4,
          -1,
          1,
          1,
          1,
          1,
          2,
          2,
          2,
          4,
          4,
          4,
          4,
          4,
          4,
          4,
          4,
          4,
          4,
          4,
          5,
          6,
          6,
          6,
          7,
          7
         ],
         "yaxis": "y"
        }
       ],
       "layout": {
        "legend": {
         "tracegroupgap": 0
        },
        "margin": {
         "t": 60
        },
        "template": {
         "data": {
          "bar": [
           {
            "error_x": {
             "color": "#2a3f5f"
            },
            "error_y": {
             "color": "#2a3f5f"
            },
            "marker": {
             "line": {
              "color": "#E5ECF6",
              "width": 0.5
             },
             "pattern": {
              "fillmode": "overlay",
              "size": 10,
              "solidity": 0.2
             }
            },
            "type": "bar"
           }
          ],
          "barpolar": [
           {
            "marker": {
             "line": {
              "color": "#E5ECF6",
              "width": 0.5
             },
             "pattern": {
              "fillmode": "overlay",
              "size": 10,
              "solidity": 0.2
             }
            },
            "type": "barpolar"
           }
          ],
          "carpet": [
           {
            "aaxis": {
             "endlinecolor": "#2a3f5f",
             "gridcolor": "white",
             "linecolor": "white",
             "minorgridcolor": "white",
             "startlinecolor": "#2a3f5f"
            },
            "baxis": {
             "endlinecolor": "#2a3f5f",
             "gridcolor": "white",
             "linecolor": "white",
             "minorgridcolor": "white",
             "startlinecolor": "#2a3f5f"
            },
            "type": "carpet"
           }
          ],
          "choropleth": [
           {
            "colorbar": {
             "outlinewidth": 0,
             "ticks": ""
            },
            "type": "choropleth"
           }
          ],
          "contour": [
           {
            "colorbar": {
             "outlinewidth": 0,
             "ticks": ""
            },
            "colorscale": [
             [
              0,
              "#0d0887"
             ],
             [
              0.1111111111111111,
              "#46039f"
             ],
             [
              0.2222222222222222,
              "#7201a8"
             ],
             [
              0.3333333333333333,
              "#9c179e"
             ],
             [
              0.4444444444444444,
              "#bd3786"
             ],
             [
              0.5555555555555556,
              "#d8576b"
             ],
             [
              0.6666666666666666,
              "#ed7953"
             ],
             [
              0.7777777777777778,
              "#fb9f3a"
             ],
             [
              0.8888888888888888,
              "#fdca26"
             ],
             [
              1,
              "#f0f921"
             ]
            ],
            "type": "contour"
           }
          ],
          "contourcarpet": [
           {
            "colorbar": {
             "outlinewidth": 0,
             "ticks": ""
            },
            "type": "contourcarpet"
           }
          ],
          "heatmap": [
           {
            "colorbar": {
             "outlinewidth": 0,
             "ticks": ""
            },
            "colorscale": [
             [
              0,
              "#0d0887"
             ],
             [
              0.1111111111111111,
              "#46039f"
             ],
             [
              0.2222222222222222,
              "#7201a8"
             ],
             [
              0.3333333333333333,
              "#9c179e"
             ],
             [
              0.4444444444444444,
              "#bd3786"
             ],
             [
              0.5555555555555556,
              "#d8576b"
             ],
             [
              0.6666666666666666,
              "#ed7953"
             ],
             [
              0.7777777777777778,
              "#fb9f3a"
             ],
             [
              0.8888888888888888,
              "#fdca26"
             ],
             [
              1,
              "#f0f921"
             ]
            ],
            "type": "heatmap"
           }
          ],
          "heatmapgl": [
           {
            "colorbar": {
             "outlinewidth": 0,
             "ticks": ""
            },
            "colorscale": [
             [
              0,
              "#0d0887"
             ],
             [
              0.1111111111111111,
              "#46039f"
             ],
             [
              0.2222222222222222,
              "#7201a8"
             ],
             [
              0.3333333333333333,
              "#9c179e"
             ],
             [
              0.4444444444444444,
              "#bd3786"
             ],
             [
              0.5555555555555556,
              "#d8576b"
             ],
             [
              0.6666666666666666,
              "#ed7953"
             ],
             [
              0.7777777777777778,
              "#fb9f3a"
             ],
             [
              0.8888888888888888,
              "#fdca26"
             ],
             [
              1,
              "#f0f921"
             ]
            ],
            "type": "heatmapgl"
           }
          ],
          "histogram": [
           {
            "marker": {
             "pattern": {
              "fillmode": "overlay",
              "size": 10,
              "solidity": 0.2
             }
            },
            "type": "histogram"
           }
          ],
          "histogram2d": [
           {
            "colorbar": {
             "outlinewidth": 0,
             "ticks": ""
            },
            "colorscale": [
             [
              0,
              "#0d0887"
             ],
             [
              0.1111111111111111,
              "#46039f"
             ],
             [
              0.2222222222222222,
              "#7201a8"
             ],
             [
              0.3333333333333333,
              "#9c179e"
             ],
             [
              0.4444444444444444,
              "#bd3786"
             ],
             [
              0.5555555555555556,
              "#d8576b"
             ],
             [
              0.6666666666666666,
              "#ed7953"
             ],
             [
              0.7777777777777778,
              "#fb9f3a"
             ],
             [
              0.8888888888888888,
              "#fdca26"
             ],
             [
              1,
              "#f0f921"
             ]
            ],
            "type": "histogram2d"
           }
          ],
          "histogram2dcontour": [
           {
            "colorbar": {
             "outlinewidth": 0,
             "ticks": ""
            },
            "colorscale": [
             [
              0,
              "#0d0887"
             ],
             [
              0.1111111111111111,
              "#46039f"
             ],
             [
              0.2222222222222222,
              "#7201a8"
             ],
             [
              0.3333333333333333,
              "#9c179e"
             ],
             [
              0.4444444444444444,
              "#bd3786"
             ],
             [
              0.5555555555555556,
              "#d8576b"
             ],
             [
              0.6666666666666666,
              "#ed7953"
             ],
             [
              0.7777777777777778,
              "#fb9f3a"
             ],
             [
              0.8888888888888888,
              "#fdca26"
             ],
             [
              1,
              "#f0f921"
             ]
            ],
            "type": "histogram2dcontour"
           }
          ],
          "mesh3d": [
           {
            "colorbar": {
             "outlinewidth": 0,
             "ticks": ""
            },
            "type": "mesh3d"
           }
          ],
          "parcoords": [
           {
            "line": {
             "colorbar": {
              "outlinewidth": 0,
              "ticks": ""
             }
            },
            "type": "parcoords"
           }
          ],
          "pie": [
           {
            "automargin": true,
            "type": "pie"
           }
          ],
          "scatter": [
           {
            "marker": {
             "colorbar": {
              "outlinewidth": 0,
              "ticks": ""
             }
            },
            "type": "scatter"
           }
          ],
          "scatter3d": [
           {
            "line": {
             "colorbar": {
              "outlinewidth": 0,
              "ticks": ""
             }
            },
            "marker": {
             "colorbar": {
              "outlinewidth": 0,
              "ticks": ""
             }
            },
            "type": "scatter3d"
           }
          ],
          "scattercarpet": [
           {
            "marker": {
             "colorbar": {
              "outlinewidth": 0,
              "ticks": ""
             }
            },
            "type": "scattercarpet"
           }
          ],
          "scattergeo": [
           {
            "marker": {
             "colorbar": {
              "outlinewidth": 0,
              "ticks": ""
             }
            },
            "type": "scattergeo"
           }
          ],
          "scattergl": [
           {
            "marker": {
             "colorbar": {
              "outlinewidth": 0,
              "ticks": ""
             }
            },
            "type": "scattergl"
           }
          ],
          "scattermapbox": [
           {
            "marker": {
             "colorbar": {
              "outlinewidth": 0,
              "ticks": ""
             }
            },
            "type": "scattermapbox"
           }
          ],
          "scatterpolar": [
           {
            "marker": {
             "colorbar": {
              "outlinewidth": 0,
              "ticks": ""
             }
            },
            "type": "scatterpolar"
           }
          ],
          "scatterpolargl": [
           {
            "marker": {
             "colorbar": {
              "outlinewidth": 0,
              "ticks": ""
             }
            },
            "type": "scatterpolargl"
           }
          ],
          "scatterternary": [
           {
            "marker": {
             "colorbar": {
              "outlinewidth": 0,
              "ticks": ""
             }
            },
            "type": "scatterternary"
           }
          ],
          "surface": [
           {
            "colorbar": {
             "outlinewidth": 0,
             "ticks": ""
            },
            "colorscale": [
             [
              0,
              "#0d0887"
             ],
             [
              0.1111111111111111,
              "#46039f"
             ],
             [
              0.2222222222222222,
              "#7201a8"
             ],
             [
              0.3333333333333333,
              "#9c179e"
             ],
             [
              0.4444444444444444,
              "#bd3786"
             ],
             [
              0.5555555555555556,
              "#d8576b"
             ],
             [
              0.6666666666666666,
              "#ed7953"
             ],
             [
              0.7777777777777778,
              "#fb9f3a"
             ],
             [
              0.8888888888888888,
              "#fdca26"
             ],
             [
              1,
              "#f0f921"
             ]
            ],
            "type": "surface"
           }
          ],
          "table": [
           {
            "cells": {
             "fill": {
              "color": "#EBF0F8"
             },
             "line": {
              "color": "white"
             }
            },
            "header": {
             "fill": {
              "color": "#C8D4E3"
             },
             "line": {
              "color": "white"
             }
            },
            "type": "table"
           }
          ]
         },
         "layout": {
          "annotationdefaults": {
           "arrowcolor": "#2a3f5f",
           "arrowhead": 0,
           "arrowwidth": 1
          },
          "autotypenumbers": "strict",
          "coloraxis": {
           "colorbar": {
            "outlinewidth": 0,
            "ticks": ""
           }
          },
          "colorscale": {
           "diverging": [
            [
             0,
             "#8e0152"
            ],
            [
             0.1,
             "#c51b7d"
            ],
            [
             0.2,
             "#de77ae"
            ],
            [
             0.3,
             "#f1b6da"
            ],
            [
             0.4,
             "#fde0ef"
            ],
            [
             0.5,
             "#f7f7f7"
            ],
            [
             0.6,
             "#e6f5d0"
            ],
            [
             0.7,
             "#b8e186"
            ],
            [
             0.8,
             "#7fbc41"
            ],
            [
             0.9,
             "#4d9221"
            ],
            [
             1,
             "#276419"
            ]
           ],
           "sequential": [
            [
             0,
             "#0d0887"
            ],
            [
             0.1111111111111111,
             "#46039f"
            ],
            [
             0.2222222222222222,
             "#7201a8"
            ],
            [
             0.3333333333333333,
             "#9c179e"
            ],
            [
             0.4444444444444444,
             "#bd3786"
            ],
            [
             0.5555555555555556,
             "#d8576b"
            ],
            [
             0.6666666666666666,
             "#ed7953"
            ],
            [
             0.7777777777777778,
             "#fb9f3a"
            ],
            [
             0.8888888888888888,
             "#fdca26"
            ],
            [
             1,
             "#f0f921"
            ]
           ],
           "sequentialminus": [
            [
             0,
             "#0d0887"
            ],
            [
             0.1111111111111111,
             "#46039f"
            ],
            [
             0.2222222222222222,
             "#7201a8"
            ],
            [
             0.3333333333333333,
             "#9c179e"
            ],
            [
             0.4444444444444444,
             "#bd3786"
            ],
            [
             0.5555555555555556,
             "#d8576b"
            ],
            [
             0.6666666666666666,
             "#ed7953"
            ],
            [
             0.7777777777777778,
             "#fb9f3a"
            ],
            [
             0.8888888888888888,
             "#fdca26"
            ],
            [
             1,
             "#f0f921"
            ]
           ]
          },
          "colorway": [
           "#636efa",
           "#EF553B",
           "#00cc96",
           "#ab63fa",
           "#FFA15A",
           "#19d3f3",
           "#FF6692",
           "#B6E880",
           "#FF97FF",
           "#FECB52"
          ],
          "font": {
           "color": "#2a3f5f"
          },
          "geo": {
           "bgcolor": "white",
           "lakecolor": "white",
           "landcolor": "#E5ECF6",
           "showlakes": true,
           "showland": true,
           "subunitcolor": "white"
          },
          "hoverlabel": {
           "align": "left"
          },
          "hovermode": "closest",
          "mapbox": {
           "style": "light"
          },
          "paper_bgcolor": "white",
          "plot_bgcolor": "#E5ECF6",
          "polar": {
           "angularaxis": {
            "gridcolor": "white",
            "linecolor": "white",
            "ticks": ""
           },
           "bgcolor": "#E5ECF6",
           "radialaxis": {
            "gridcolor": "white",
            "linecolor": "white",
            "ticks": ""
           }
          },
          "scene": {
           "xaxis": {
            "backgroundcolor": "#E5ECF6",
            "gridcolor": "white",
            "gridwidth": 2,
            "linecolor": "white",
            "showbackground": true,
            "ticks": "",
            "zerolinecolor": "white"
           },
           "yaxis": {
            "backgroundcolor": "#E5ECF6",
            "gridcolor": "white",
            "gridwidth": 2,
            "linecolor": "white",
            "showbackground": true,
            "ticks": "",
            "zerolinecolor": "white"
           },
           "zaxis": {
            "backgroundcolor": "#E5ECF6",
            "gridcolor": "white",
            "gridwidth": 2,
            "linecolor": "white",
            "showbackground": true,
            "ticks": "",
            "zerolinecolor": "white"
           }
          },
          "shapedefaults": {
           "line": {
            "color": "#2a3f5f"
           }
          },
          "ternary": {
           "aaxis": {
            "gridcolor": "white",
            "linecolor": "white",
            "ticks": ""
           },
           "baxis": {
            "gridcolor": "white",
            "linecolor": "white",
            "ticks": ""
           },
           "bgcolor": "#E5ECF6",
           "caxis": {
            "gridcolor": "white",
            "linecolor": "white",
            "ticks": ""
           }
          },
          "title": {
           "x": 0.05
          },
          "xaxis": {
           "automargin": true,
           "gridcolor": "white",
           "linecolor": "white",
           "ticks": "",
           "title": {
            "standoff": 15
           },
           "zerolinecolor": "white",
           "zerolinewidth": 2
          },
          "yaxis": {
           "automargin": true,
           "gridcolor": "white",
           "linecolor": "white",
           "ticks": "",
           "title": {
            "standoff": 15
           },
           "zerolinecolor": "white",
           "zerolinewidth": 2
          }
         }
        },
        "xaxis": {
         "anchor": "y",
         "domain": [
          0,
          1
         ],
         "title": {
          "text": "Ticker"
         }
        },
        "yaxis": {
         "anchor": "x",
         "domain": [
          0,
          1
         ],
         "title": {
          "text": "Valor"
         }
        }
       }
      }
     },
     "metadata": {},
     "output_type": "display_data"
    }
   ],
   "source": [
    "import plotly.express as px\n",
    "import seaborn as sns\n",
    "\n",
    "fig = px.scatter(dicionarioCarobarato, x='Ticker', y='Valor',  hover_name='Ticker')\n",
    "fig.show()"
   ]
  },
  {
   "cell_type": "code",
   "execution_count": null,
   "metadata": {},
   "outputs": [],
   "source": []
  }
 ],
 "metadata": {
  "interpreter": {
   "hash": "b3ba2566441a7c06988d0923437866b63cedc61552a5af99d1f4fb67d367b25f"
  },
  "kernelspec": {
   "display_name": "Python 3.8.8 ('base')",
   "language": "python",
   "name": "python3"
  },
  "language_info": {
   "codemirror_mode": {
    "name": "ipython",
    "version": 3
   },
   "file_extension": ".py",
   "mimetype": "text/x-python",
   "name": "python",
   "nbconvert_exporter": "python",
   "pygments_lexer": "ipython3",
   "version": "3.8.8"
  },
  "orig_nbformat": 4
 },
 "nbformat": 4,
 "nbformat_minor": 2
}
